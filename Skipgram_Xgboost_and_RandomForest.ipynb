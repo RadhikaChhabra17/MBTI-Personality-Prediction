{
  "cells": [
    {
      "cell_type": "markdown",
      "metadata": {
        "id": "iCQggIhDL0Of"
      },
      "source": [
        "# Myers-Briggs Personality Classification with ML algorithms"
      ]
    },
    {
      "cell_type": "markdown",
      "metadata": {
        "id": "0Dj9mWoVL0Ol"
      },
      "source": [
        "### Importing Libraries"
      ]
    },
    {
      "cell_type": "code",
      "execution_count": null,
      "metadata": {
        "id": "IbsK3j7VL0On"
      },
      "outputs": [],
      "source": [
        "import pandas as pd\n",
        "import numpy as np\n",
        "import seaborn as sns\n",
        "import matplotlib.pyplot as plt\n",
        "import re\n",
        "import nltk\n",
        "from nltk import FreqDist\n",
        "from nltk.tokenize import word_tokenize\n",
        "from nltk.corpus import stopwords, wordnet\n",
        "from nltk.stem import WordNetLemmatizer\n",
        "from wordcloud import WordCloud\n",
        "from collections import Counter\n",
        "from itertools import chain\n",
        "# import contractions\n",
        "from nltk.collocations import BigramAssocMeasures, BigramCollocationFinder\n",
        "from nltk.collocations import TrigramAssocMeasures, TrigramCollocationFinder\n",
        "from nltk import ngrams"
      ]
    },
    {
      "cell_type": "code",
      "execution_count": null,
      "metadata": {
        "colab": {
          "base_uri": "https://localhost:8080/"
        },
        "id": "NPV-2v45YssO",
        "outputId": "a2d88f07-6c79-42d5-8f07-326ba992e854"
      },
      "outputs": [
        {
          "output_type": "stream",
          "name": "stdout",
          "text": [
            "Looking in indexes: https://pypi.org/simple, https://us-python.pkg.dev/colab-wheels/public/simple/\n",
            "Collecting contractions\n",
            "  Downloading contractions-0.1.73-py2.py3-none-any.whl (8.7 kB)\n",
            "Collecting textsearch>=0.0.21\n",
            "  Downloading textsearch-0.0.24-py2.py3-none-any.whl (7.6 kB)\n",
            "Collecting anyascii\n",
            "  Downloading anyascii-0.3.2-py3-none-any.whl (289 kB)\n",
            "\u001b[2K     \u001b[90m━━━━━━━━━━━━━━━━━━━━━━━━━━━━━━━━━━━━━━━\u001b[0m \u001b[32m289.9/289.9 kB\u001b[0m \u001b[31m7.6 MB/s\u001b[0m eta \u001b[36m0:00:00\u001b[0m\n",
            "\u001b[?25hCollecting pyahocorasick\n",
            "  Downloading pyahocorasick-2.0.0-cp39-cp39-manylinux_2_5_x86_64.manylinux1_x86_64.whl (103 kB)\n",
            "\u001b[2K     \u001b[90m━━━━━━━━━━━━━━━━━━━━━━━━━━━━━━━━━━━━━━━\u001b[0m \u001b[32m103.2/103.2 kB\u001b[0m \u001b[31m5.4 MB/s\u001b[0m eta \u001b[36m0:00:00\u001b[0m\n",
            "\u001b[?25hInstalling collected packages: pyahocorasick, anyascii, textsearch, contractions\n",
            "Successfully installed anyascii-0.3.2 contractions-0.1.73 pyahocorasick-2.0.0 textsearch-0.0.24\n"
          ]
        }
      ],
      "source": [
        "!pip install contractions\n",
        "\n",
        "import contractions"
      ]
    },
    {
      "cell_type": "markdown",
      "metadata": {
        "id": "dcQf9Nd0L0Oo"
      },
      "source": [
        "### Load Dataset"
      ]
    },
    {
      "cell_type": "code",
      "execution_count": null,
      "metadata": {
        "colab": {
          "base_uri": "https://localhost:8080/"
        },
        "id": "7xn4IBrS6V4O",
        "outputId": "e4288ab1-6498-4341-c718-171eb04ea79f"
      },
      "outputs": [
        {
          "output_type": "stream",
          "name": "stdout",
          "text": [
            "Mounted at /content/drive\n"
          ]
        }
      ],
      "source": [
        "from google.colab import drive\n",
        "drive.mount('/content/drive')"
      ]
    },
    {
      "cell_type": "code",
      "execution_count": null,
      "metadata": {
        "colab": {
          "base_uri": "https://localhost:8080/",
          "height": 206
        },
        "id": "LIMiR2vk58nD",
        "outputId": "b80407e5-2e94-4e19-f716-1f65c1987fc4"
      },
      "outputs": [
        {
          "output_type": "execute_result",
          "data": {
            "text/plain": [
              "   type                                              posts\n",
              "0  ISFJ  Everything you said here is spot on.|||Ti = 62...\n",
              "1  ESFP  That's okay, everybody has their preferences. ...\n",
              "2  ENFJ  I laughed so hard at the post, and especially ...\n",
              "3  ISFP  My best friend and bass player in my band is I...\n",
              "4  ESFJ  Birds of prey always look angry. It's the... b..."
            ],
            "text/html": [
              "\n",
              "  <div id=\"df-fcb161b8-f454-4a55-84a1-150f63216493\">\n",
              "    <div class=\"colab-df-container\">\n",
              "      <div>\n",
              "<style scoped>\n",
              "    .dataframe tbody tr th:only-of-type {\n",
              "        vertical-align: middle;\n",
              "    }\n",
              "\n",
              "    .dataframe tbody tr th {\n",
              "        vertical-align: top;\n",
              "    }\n",
              "\n",
              "    .dataframe thead th {\n",
              "        text-align: right;\n",
              "    }\n",
              "</style>\n",
              "<table border=\"1\" class=\"dataframe\">\n",
              "  <thead>\n",
              "    <tr style=\"text-align: right;\">\n",
              "      <th></th>\n",
              "      <th>type</th>\n",
              "      <th>posts</th>\n",
              "    </tr>\n",
              "  </thead>\n",
              "  <tbody>\n",
              "    <tr>\n",
              "      <th>0</th>\n",
              "      <td>ISFJ</td>\n",
              "      <td>Everything you said here is spot on.|||Ti = 62...</td>\n",
              "    </tr>\n",
              "    <tr>\n",
              "      <th>1</th>\n",
              "      <td>ESFP</td>\n",
              "      <td>That's okay, everybody has their preferences. ...</td>\n",
              "    </tr>\n",
              "    <tr>\n",
              "      <th>2</th>\n",
              "      <td>ENFJ</td>\n",
              "      <td>I laughed so hard at the post, and especially ...</td>\n",
              "    </tr>\n",
              "    <tr>\n",
              "      <th>3</th>\n",
              "      <td>ISFP</td>\n",
              "      <td>My best friend and bass player in my band is I...</td>\n",
              "    </tr>\n",
              "    <tr>\n",
              "      <th>4</th>\n",
              "      <td>ESFJ</td>\n",
              "      <td>Birds of prey always look angry. It's the... b...</td>\n",
              "    </tr>\n",
              "  </tbody>\n",
              "</table>\n",
              "</div>\n",
              "      <button class=\"colab-df-convert\" onclick=\"convertToInteractive('df-fcb161b8-f454-4a55-84a1-150f63216493')\"\n",
              "              title=\"Convert this dataframe to an interactive table.\"\n",
              "              style=\"display:none;\">\n",
              "        \n",
              "  <svg xmlns=\"http://www.w3.org/2000/svg\" height=\"24px\"viewBox=\"0 0 24 24\"\n",
              "       width=\"24px\">\n",
              "    <path d=\"M0 0h24v24H0V0z\" fill=\"none\"/>\n",
              "    <path d=\"M18.56 5.44l.94 2.06.94-2.06 2.06-.94-2.06-.94-.94-2.06-.94 2.06-2.06.94zm-11 1L8.5 8.5l.94-2.06 2.06-.94-2.06-.94L8.5 2.5l-.94 2.06-2.06.94zm10 10l.94 2.06.94-2.06 2.06-.94-2.06-.94-.94-2.06-.94 2.06-2.06.94z\"/><path d=\"M17.41 7.96l-1.37-1.37c-.4-.4-.92-.59-1.43-.59-.52 0-1.04.2-1.43.59L10.3 9.45l-7.72 7.72c-.78.78-.78 2.05 0 2.83L4 21.41c.39.39.9.59 1.41.59.51 0 1.02-.2 1.41-.59l7.78-7.78 2.81-2.81c.8-.78.8-2.07 0-2.86zM5.41 20L4 18.59l7.72-7.72 1.47 1.35L5.41 20z\"/>\n",
              "  </svg>\n",
              "      </button>\n",
              "      \n",
              "  <style>\n",
              "    .colab-df-container {\n",
              "      display:flex;\n",
              "      flex-wrap:wrap;\n",
              "      gap: 12px;\n",
              "    }\n",
              "\n",
              "    .colab-df-convert {\n",
              "      background-color: #E8F0FE;\n",
              "      border: none;\n",
              "      border-radius: 50%;\n",
              "      cursor: pointer;\n",
              "      display: none;\n",
              "      fill: #1967D2;\n",
              "      height: 32px;\n",
              "      padding: 0 0 0 0;\n",
              "      width: 32px;\n",
              "    }\n",
              "\n",
              "    .colab-df-convert:hover {\n",
              "      background-color: #E2EBFA;\n",
              "      box-shadow: 0px 1px 2px rgba(60, 64, 67, 0.3), 0px 1px 3px 1px rgba(60, 64, 67, 0.15);\n",
              "      fill: #174EA6;\n",
              "    }\n",
              "\n",
              "    [theme=dark] .colab-df-convert {\n",
              "      background-color: #3B4455;\n",
              "      fill: #D2E3FC;\n",
              "    }\n",
              "\n",
              "    [theme=dark] .colab-df-convert:hover {\n",
              "      background-color: #434B5C;\n",
              "      box-shadow: 0px 1px 3px 1px rgba(0, 0, 0, 0.15);\n",
              "      filter: drop-shadow(0px 1px 2px rgba(0, 0, 0, 0.3));\n",
              "      fill: #FFFFFF;\n",
              "    }\n",
              "  </style>\n",
              "\n",
              "      <script>\n",
              "        const buttonEl =\n",
              "          document.querySelector('#df-fcb161b8-f454-4a55-84a1-150f63216493 button.colab-df-convert');\n",
              "        buttonEl.style.display =\n",
              "          google.colab.kernel.accessAllowed ? 'block' : 'none';\n",
              "\n",
              "        async function convertToInteractive(key) {\n",
              "          const element = document.querySelector('#df-fcb161b8-f454-4a55-84a1-150f63216493');\n",
              "          const dataTable =\n",
              "            await google.colab.kernel.invokeFunction('convertToInteractive',\n",
              "                                                     [key], {});\n",
              "          if (!dataTable) return;\n",
              "\n",
              "          const docLinkHtml = 'Like what you see? Visit the ' +\n",
              "            '<a target=\"_blank\" href=https://colab.research.google.com/notebooks/data_table.ipynb>data table notebook</a>'\n",
              "            + ' to learn more about interactive tables.';\n",
              "          element.innerHTML = '';\n",
              "          dataTable['output_type'] = 'display_data';\n",
              "          await google.colab.output.renderOutput(dataTable, element);\n",
              "          const docLink = document.createElement('div');\n",
              "          docLink.innerHTML = docLinkHtml;\n",
              "          element.appendChild(docLink);\n",
              "        }\n",
              "      </script>\n",
              "    </div>\n",
              "  </div>\n",
              "  "
            ]
          },
          "metadata": {},
          "execution_count": 4
        }
      ],
      "source": [
        "data = pd.read_csv(\"/content/drive/MyDrive/balanced_data.csv\")\n",
        "data.head()"
      ]
    },
    {
      "cell_type": "markdown",
      "metadata": {
        "id": "PrMPx9uIL0Op"
      },
      "source": [
        "#### some information about dataset"
      ]
    },
    {
      "cell_type": "code",
      "execution_count": null,
      "metadata": {
        "colab": {
          "base_uri": "https://localhost:8080/"
        },
        "id": "Loy4aNmTL0Oq",
        "outputId": "9bbcf9c8-812e-4eb3-bcff-43af4cfa87e3"
      },
      "outputs": [
        {
          "output_type": "stream",
          "name": "stdout",
          "text": [
            "<class 'pandas.core.frame.DataFrame'>\n",
            "RangeIndex: 29312 entries, 0 to 29311\n",
            "Data columns (total 2 columns):\n",
            " #   Column  Non-Null Count  Dtype \n",
            "---  ------  --------------  ----- \n",
            " 0   type    29312 non-null  object\n",
            " 1   posts   29312 non-null  object\n",
            "dtypes: object(2)\n",
            "memory usage: 458.1+ KB\n"
          ]
        }
      ],
      "source": [
        "data.info()"
      ]
    },
    {
      "cell_type": "code",
      "execution_count": null,
      "metadata": {
        "colab": {
          "base_uri": "https://localhost:8080/",
          "height": 175
        },
        "id": "VyZ3TC7HL0Oq",
        "outputId": "ae4a9d36-c9e8-47d8-c22e-0b8ada2e877b"
      },
      "outputs": [
        {
          "output_type": "execute_result",
          "data": {
            "text/plain": [
              "         type                                              posts\n",
              "count   29312                                              29312\n",
              "unique     16                                              29312\n",
              "top      ISFJ  Everything you said here is spot on.|||Ti = 62...\n",
              "freq     1832                                                  1"
            ],
            "text/html": [
              "\n",
              "  <div id=\"df-9ea93f4c-0601-4a66-a937-18f3df3e851f\">\n",
              "    <div class=\"colab-df-container\">\n",
              "      <div>\n",
              "<style scoped>\n",
              "    .dataframe tbody tr th:only-of-type {\n",
              "        vertical-align: middle;\n",
              "    }\n",
              "\n",
              "    .dataframe tbody tr th {\n",
              "        vertical-align: top;\n",
              "    }\n",
              "\n",
              "    .dataframe thead th {\n",
              "        text-align: right;\n",
              "    }\n",
              "</style>\n",
              "<table border=\"1\" class=\"dataframe\">\n",
              "  <thead>\n",
              "    <tr style=\"text-align: right;\">\n",
              "      <th></th>\n",
              "      <th>type</th>\n",
              "      <th>posts</th>\n",
              "    </tr>\n",
              "  </thead>\n",
              "  <tbody>\n",
              "    <tr>\n",
              "      <th>count</th>\n",
              "      <td>29312</td>\n",
              "      <td>29312</td>\n",
              "    </tr>\n",
              "    <tr>\n",
              "      <th>unique</th>\n",
              "      <td>16</td>\n",
              "      <td>29312</td>\n",
              "    </tr>\n",
              "    <tr>\n",
              "      <th>top</th>\n",
              "      <td>ISFJ</td>\n",
              "      <td>Everything you said here is spot on.|||Ti = 62...</td>\n",
              "    </tr>\n",
              "    <tr>\n",
              "      <th>freq</th>\n",
              "      <td>1832</td>\n",
              "      <td>1</td>\n",
              "    </tr>\n",
              "  </tbody>\n",
              "</table>\n",
              "</div>\n",
              "      <button class=\"colab-df-convert\" onclick=\"convertToInteractive('df-9ea93f4c-0601-4a66-a937-18f3df3e851f')\"\n",
              "              title=\"Convert this dataframe to an interactive table.\"\n",
              "              style=\"display:none;\">\n",
              "        \n",
              "  <svg xmlns=\"http://www.w3.org/2000/svg\" height=\"24px\"viewBox=\"0 0 24 24\"\n",
              "       width=\"24px\">\n",
              "    <path d=\"M0 0h24v24H0V0z\" fill=\"none\"/>\n",
              "    <path d=\"M18.56 5.44l.94 2.06.94-2.06 2.06-.94-2.06-.94-.94-2.06-.94 2.06-2.06.94zm-11 1L8.5 8.5l.94-2.06 2.06-.94-2.06-.94L8.5 2.5l-.94 2.06-2.06.94zm10 10l.94 2.06.94-2.06 2.06-.94-2.06-.94-.94-2.06-.94 2.06-2.06.94z\"/><path d=\"M17.41 7.96l-1.37-1.37c-.4-.4-.92-.59-1.43-.59-.52 0-1.04.2-1.43.59L10.3 9.45l-7.72 7.72c-.78.78-.78 2.05 0 2.83L4 21.41c.39.39.9.59 1.41.59.51 0 1.02-.2 1.41-.59l7.78-7.78 2.81-2.81c.8-.78.8-2.07 0-2.86zM5.41 20L4 18.59l7.72-7.72 1.47 1.35L5.41 20z\"/>\n",
              "  </svg>\n",
              "      </button>\n",
              "      \n",
              "  <style>\n",
              "    .colab-df-container {\n",
              "      display:flex;\n",
              "      flex-wrap:wrap;\n",
              "      gap: 12px;\n",
              "    }\n",
              "\n",
              "    .colab-df-convert {\n",
              "      background-color: #E8F0FE;\n",
              "      border: none;\n",
              "      border-radius: 50%;\n",
              "      cursor: pointer;\n",
              "      display: none;\n",
              "      fill: #1967D2;\n",
              "      height: 32px;\n",
              "      padding: 0 0 0 0;\n",
              "      width: 32px;\n",
              "    }\n",
              "\n",
              "    .colab-df-convert:hover {\n",
              "      background-color: #E2EBFA;\n",
              "      box-shadow: 0px 1px 2px rgba(60, 64, 67, 0.3), 0px 1px 3px 1px rgba(60, 64, 67, 0.15);\n",
              "      fill: #174EA6;\n",
              "    }\n",
              "\n",
              "    [theme=dark] .colab-df-convert {\n",
              "      background-color: #3B4455;\n",
              "      fill: #D2E3FC;\n",
              "    }\n",
              "\n",
              "    [theme=dark] .colab-df-convert:hover {\n",
              "      background-color: #434B5C;\n",
              "      box-shadow: 0px 1px 3px 1px rgba(0, 0, 0, 0.15);\n",
              "      filter: drop-shadow(0px 1px 2px rgba(0, 0, 0, 0.3));\n",
              "      fill: #FFFFFF;\n",
              "    }\n",
              "  </style>\n",
              "\n",
              "      <script>\n",
              "        const buttonEl =\n",
              "          document.querySelector('#df-9ea93f4c-0601-4a66-a937-18f3df3e851f button.colab-df-convert');\n",
              "        buttonEl.style.display =\n",
              "          google.colab.kernel.accessAllowed ? 'block' : 'none';\n",
              "\n",
              "        async function convertToInteractive(key) {\n",
              "          const element = document.querySelector('#df-9ea93f4c-0601-4a66-a937-18f3df3e851f');\n",
              "          const dataTable =\n",
              "            await google.colab.kernel.invokeFunction('convertToInteractive',\n",
              "                                                     [key], {});\n",
              "          if (!dataTable) return;\n",
              "\n",
              "          const docLinkHtml = 'Like what you see? Visit the ' +\n",
              "            '<a target=\"_blank\" href=https://colab.research.google.com/notebooks/data_table.ipynb>data table notebook</a>'\n",
              "            + ' to learn more about interactive tables.';\n",
              "          element.innerHTML = '';\n",
              "          dataTable['output_type'] = 'display_data';\n",
              "          await google.colab.output.renderOutput(dataTable, element);\n",
              "          const docLink = document.createElement('div');\n",
              "          docLink.innerHTML = docLinkHtml;\n",
              "          element.appendChild(docLink);\n",
              "        }\n",
              "      </script>\n",
              "    </div>\n",
              "  </div>\n",
              "  "
            ]
          },
          "metadata": {},
          "execution_count": 6
        }
      ],
      "source": [
        "data.describe()"
      ]
    },
    {
      "cell_type": "markdown",
      "metadata": {
        "id": "62GSugQBL0Or"
      },
      "source": [
        "### Class Distribution"
      ]
    },
    {
      "cell_type": "code",
      "execution_count": null,
      "metadata": {
        "colab": {
          "base_uri": "https://localhost:8080/"
        },
        "id": "39TqVpL-L0Os",
        "outputId": "d023bb32-dc50-4d2e-f3c1-6d62fc229909"
      },
      "outputs": [
        {
          "output_type": "stream",
          "name": "stdout",
          "text": [
            "['ISFJ' 'ESFP' 'ENFJ' 'ISFP' 'ESFJ' 'ENFP' 'ESTP' 'INFP' 'ENTJ' 'INFJ'\n",
            " 'ISTP' 'INTJ' 'ISTJ' 'INTP' 'ESTJ' 'ENTP']\n"
          ]
        }
      ],
      "source": [
        "_classes = data.type.unique()\n",
        "print(_classes)"
      ]
    },
    {
      "cell_type": "code",
      "execution_count": null,
      "metadata": {
        "id": "FYy5Kd4wL0Ot"
      },
      "outputs": [],
      "source": [
        "def show_class_distribution(data, x=\"type\", figsize=(16,4), title=\"Distribution of Personality Types\", xticks_size=10, palette=\"husl\"):\n",
        "    plt.figure(figsize=figsize)\n",
        "    sns.countplot(x=x, data=data, palette=palette)\n",
        "    plt.xlabel(\"Personality Types\", size=15)\n",
        "    plt.ylabel(\"Counts\", size=15)\n",
        "    plt.xticks(size=xticks_size)\n",
        "    plt.title(title, size=20)\n",
        "    plt.show()"
      ]
    },
    {
      "cell_type": "code",
      "execution_count": null,
      "metadata": {
        "colab": {
          "base_uri": "https://localhost:8080/",
          "height": 429
        },
        "id": "Gug15hHAL0Ot",
        "outputId": "c0ee2187-c4e0-434b-bc30-fa22e48a5976"
      },
      "outputs": [
        {
          "output_type": "display_data",
          "data": {
            "text/plain": [
              "<Figure size 1600x400 with 1 Axes>"
            ],
            "image/png": "[encoded data removed]"
          },
          "metadata": {}
        }
      ],
      "source": [
        "show_class_distribution(data, xticks_size=14)"
      ]
    },
    {
      "cell_type": "code",
      "execution_count": null,
      "metadata": {
        "id": "Y5D0dJnQL0Ou"
      },
      "outputs": [],
      "source": [
        "def divide_types(df):\n",
        "    df[\"E-I\"] = \"\"\n",
        "    df[\"N-S\"] = \"\"\n",
        "    df[\"F-T\"] = \"\"\n",
        "    df[\"J-P\"] = \"\"\n",
        "    for index, row in df.iterrows():\n",
        "        row[\"E-I\"] = \"E\" if row.type[0] == \"E\" else \"I\"\n",
        "        row[\"N-S\"] = \"N\" if row.type[1] == \"N\" else \"S\"\n",
        "        row[\"F-T\"] = \"F\" if row.type[2] == \"F\" else \"T\"\n",
        "        row[\"J-P\"] = \"J\" if row.type[3] == \"J\" else \"P\"\n",
        "    return df\n",
        "\n",
        "data = divide_types(data)"
      ]
    },
    {
      "cell_type": "markdown",
      "metadata": {
        "id": "9rYKAUTnL0Ow"
      },
      "source": [
        "#### sample post"
      ]
    },
    {
      "cell_type": "code",
      "execution_count": null,
      "metadata": {
        "colab": {
          "base_uri": "https://localhost:8080/",
          "height": 109
        },
        "id": "9NCq2p53L0Ox",
        "outputId": "8e7cdc74-9785-4add-ecfe-708750def554"
      },
      "outputs": [
        {
          "output_type": "execute_result",
          "data": {
            "text/plain": [
              "\"'While yes you could talk about the carrots, but that would be just as true for the ENTP. We both use Ne as out primary function. So the fact that you would have strong opinions or ideas about a topic...|||Yeah, Go saffron! That was well said, concise, and accurate. Especially that bit about the dollar being over inflated, spot on! I'm impressed. Thank you for having the energy to do what I couldn't!|||Not me. I think I sound terrible. If you know about sound design I feel like my voice is muddy on the lowends, and not very clear. I kinda of want to see a speech pathologist.|||I am mistaken for a T quite a bit. I mistook my ENFP best friend for a T-- but then in retrospect I see how he is totally an F-- We tell each other, i love you. On the phone. (we are two straight...|||I am the worst when deciding plans to do with people. I offer no advice.|||I would have to agree with the out of sight out of mind thing. It can be pretty bad for maintaining any long term friendships that are separated by distance.|||Have you ever been a public setting where some one says something so outlandish yet with such conviction that there is just absolutely no way to attack it? I mean the argument is just so nebulous, it...|||I got 54-- but yeah, seems like an invalid test to me.|||Hello Tine,   Yep. I am in hollywood and loving every second of it. I think if disciplined enough this is an excellent place for enfp's we are great story tellers, or we at least know great story...|||Oh I almost forgot.   Book Of Eli-- What god awful movie. I hated every minute of it.|||My three worst movies of all time: 1 Gummo, Harmonie Korine is absolute hack!  2 Bully 3 Employee of The Month  That being said I wasn't a fan of Avatar, LOTR, The Hangover, and a lot of the...|||Actually I think there are some major points missing from this conversation.   NF's generally look for true love, that's true with me.   Ne is about possibilities and connections, and is very...|||Yes, twice recently. I fell in love on the spot. And (which is very uncommon for me) they are both potentials right now which is driving me mad. Choosing one is not choosing the other! And i have a...|||ENTPs only think they can do that, ENFP's really can.|||Can you spot the ENFP in the video. Although, to be fair there might be multiple ones.   But I am in it, so there is definitely one.   Oh yea and this is an obvious plug for the project, but you...|||Haha this is great. Actually two of my closest friends are both ENFP guys.|||I think you should just jump right in. The more you write the better you will get at it, don't put it off. Also, my process is to write a plot outline, then write from that-- but don't be afraid to...|||Can you expand on this?   I will have to say when I feel a connection, it is usually based on witty banter and playfulness rather than ideas.  I love having shared ideas but, the playfulness /...|||^ That seems about right.   I know some of my close friends thought I was a T, and one of my best friends who is and ENFP I mistook for a T. It is hard with Fi to because it is so personal, I am...|||Haha, I know what I have to do. That's the thing, I mean I'm 25 I thought this sort of thing would stop happening by now... Yea, I do realize how irrational it all is. Oh well, I guess the only thing...|||Okay. So, I'm super weird. I've had one relationship in my life-- In High School. Very Short.  Ended terribly. Now 10 years later, I'm still single but I met a girl... And I fall hard.   I'm NEVER...|||Haha, ENFP + ENFP get along like gang busters. I mean, I've started to ask a bunch of people about type theory and it turns out a lot of my close friends are enfp...|||I know it is not a personal video per say. But I'm and enfp and I'm in it. Also, I fairly sure the other guy is an ENFP as well. And way. I thought i'd share. Oh yea and it gets weird, but it should...|||I'm in south florida but I'm moving to Los Angeles.|||There is something about Kristen Stewart that I find very appealing, though. I think apergers is in the vogue right now, and getting way to much attention.|||yes of course. According to wiki socion it is described as such:|||Hi error, I find your post fascinating. I was raised Christian/ Jewish and there are parts of it that I love, and parts that I do not. I was thinking of trying a UU church seems very inviting and...|||This is interesting to me. I just  realized that ISTP and ENFP are ideal, dual relationships according to socionics and I think it makes a lot of sense. I have always been attracted to the ISTP...|||I can believe in something without having to be certain of it. Nor do the two beliefs need to be mutually exclusive. I can believe in something with a very little confidence factor maybe even as low...|||Actually, I just found out from experience. When some one repeatedly does some thing to me in a demeaning way, even though I said that it really bothers me. Especially, if it is physical.   For...|||Ahh yes Crow, well said.   Atheist/ theist discussions are very difficult because they usually beat around the bush in some technical way. When either party must come up with what believe to be...|||Oh man-- haha, this was priceless. I always am concerned about people's perception of myself. And specifically about, how people read my writings. Even as a kid I would rather read my writings to a...|||words and touch. Not in any particular order.|||What about Esperanto!   Nah, I'm partial to French. I speak Spanish but I don't find it very eloquent at all.  English is very complex and vast, So i find that it can do things other languages...|||Hmwith, that link is broken, but i found it on the blog.   I actually am going to rescind the whole 4 thing. I think I am a 7w6 but being an ENFP I am still very attracted to certain things that 4...|||I think I had a break through.   I think I'm a 4w3 that puts on a facade of 7w6. I think in some way I idealize or fantasize about my personality as being more gregarious and experimental than I...|||Oh man I read all of that page! It is a really great site, but I 'm still uncertain.   I score seven all the time on tests by a long shot, but after reading all of the descriptions I think i'd...|||Man, I am really curious because I thought I was a 7 but now I think i could be a 4 as well. After reading these descriptions I feel like I'm in some ways waay more like a 4 but in other ways more...|||She sounds hot...:laughing:|||Well, I mean, you're German. I thought it was a minor Taboo to be patriotic in Germany.    But, yea I think patriotism is kinda of weird too. American patriotism seems more like brainwashing than...|||Making something that is complex seem over simplified resulting in bigotry, with a false pretense. So a statement like, ohh those radical Egyptians just want to establish a Radical Islamic state....|||Oh yea. I played games like that well until I was older. I played games that were mainly from pop culture so every one one had shared experience to draw on.   I must've been eleven or so, and can...|||It is so relevant, how can I not...   http://www.youtube.com/watch?v=zc4e-HdlhPY&feature=related|||Cough, write, gone.|||Haha, yea I tend to believe things at face value. And if I find out some one has ulterior motives I'm pretty shocked about it.   But I would say that I filter petty, scheming people out of my life.|||I am right there with ya. I want to go skydiving really badly.|||I was wondering what V-day was lol..... I thought some odd things really fast.|||I don't know... Hmmm. I guess I have a very developed Sensor ability because i grew up with a S older brother. That means I was very athletic did 5 varsity sports and love being active. It seems like...|||Oh yea.. Thats right I was thinking ISTP... oh well never mind.    The only person I know that might be ISTJ is some one who strikes me as very odd, and some what unattractive... a bit of a cold...|||I am ready any time any where !That's awesome.'\""
            ],
            "application/vnd.google.colaboratory.intrinsic+json": {
              "type": "string"
            }
          },
          "metadata": {},
          "execution_count": 11
        }
      ],
      "source": [
        "data.loc[7, \"posts\"]"
      ]
    },
    {
      "cell_type": "markdown",
      "metadata": {
        "id": "_Gg6vZI4L0Ox"
      },
      "source": [
        "### Cleaning"
      ]
    },
    {
      "cell_type": "code",
      "execution_count": null,
      "metadata": {
        "id": "70YISPKRL0Oy"
      },
      "outputs": [],
      "source": [
        "def fix_contractions(df, column_name = \"posts\", new_column=\"cleaned_post\"):\n",
        "    df[new_column] = df[column_name].apply(lambda x: contractions.fix(x))\n",
        "    return df\n",
        "\n",
        "data = fix_contractions(data)"
      ]
    },
    {
      "cell_type": "code",
      "execution_count": null,
      "metadata": {
        "id": "6tPEDCSrL0Oz"
      },
      "outputs": [],
      "source": [
        "def clean_data(df, column_name = \"cleaned_post\"):\n",
        "    df[column_name] = df[column_name].apply(lambda x: x.lower())\n",
        "    df[column_name] = df[column_name].apply(lambda x: re.sub(r'@([a-zA-Z0-9_]{1,50})', '', x))\n",
        "    df[column_name] = df[column_name].apply(lambda x: re.sub(r'#([a-zA-Z0-9_]{1,50})', '', x))\n",
        "    df[column_name] = df[column_name].apply(lambda x: re.sub(r'http[s]?://\\S+', '', x))\n",
        "    df[column_name] = df[column_name].apply(lambda x: re.sub(r'[^A-Za-z]+', ' ', x))\n",
        "    df[column_name] = df[column_name].apply(lambda x: re.sub(r' +', ' ', x))\n",
        "    df[column_name] = df[column_name].apply(lambda x: \" \".join([word for word in x.split() if not len(word) <3]))\n",
        "    return df\n",
        "\n",
        "data = clean_data(data)"
      ]
    },
    {
      "cell_type": "markdown",
      "metadata": {
        "id": "Hcs5aV21L0Oz"
      },
      "source": [
        "#### cleaned post"
      ]
    },
    {
      "cell_type": "code",
      "execution_count": null,
      "metadata": {
        "colab": {
          "base_uri": "https://localhost:8080/",
          "height": 109
        },
        "id": "x7naZ0S5L0O0",
        "outputId": "541564d5-402c-4399-acd9-3e3b17252189"
      },
      "outputs": [
        {
          "output_type": "execute_result",
          "data": {
            "text/plain": [
              "'while yes you could talk about the carrots but that would just true for the entp both use out primary function the fact that you would have strong opinions ideas about topic yeah saffron that was well said concise and accurate especially that bit about the dollar being over inflated spot impressed thank you for having the energy what could not not think sound terrible you know about sound design feel like voice muddy the lowends and not very clear kind want see speech pathologist mistaken for quite bit mistook enfp best friend for but then retrospect see how totally tell each other love you the phone are two straight the worst when deciding plans with people offer advice would have agree with the out sight out mind thing can pretty bad for maintaining any long term friendships that are separated distance have you ever been public setting where some one says something outlandish yet with such conviction that there just absolutely way attack mean the argument just nebulous got but yeah seems like invalid test hello tine yep hollywood and loving every second think disciplined enough this excellent place for enfp are great story tellers least know great story almost forgot book eli what god awful movie hated every minute three worst movies all time gummo harmonie korine absolute hack bully employee the month that being said was not fan avatar lotr the hangover and lot the actually think there are some major points missing from this conversation generally look for true love that true with about possibilities and connections and very yes twice recently fell love the spot and which very uncommon for they are both potentials right now which driving mad choosing one not choosing the other and have entps only think they can that enfp really can can you spot the enfp the video although fair there might multiple ones but there definitely one yea and this obvious plug for the project but you haha this great actually two closest friends are both enfp guys think you should just jump right the more you write the better you will get not put off also process write plot outline then write from that but not afraid can you expand this will have say when feel connection usually based witty banter and playfulness rather than ideas love having shared ideas but the playfulness that seems about right know some close friends thought was and one best friends who and enfp mistook for hard with because personal haha know what have that the thing mean thought this sort thing would stop happening now yea realize how irrational all well guess the only thing okay super weird have had one relationship life high school very short ended terribly now years later still single but met girl and fall hard never haha enfp enfp get along like gang busters mean have started ask bunch people about type theory and turns out lot close friends are enfp know not personal video per say but and enfp and also fairly sure the other guy enfp well and way thought would share yea and gets weird but should south florida but moving los angeles there something about kristen stewart that find very appealing though think apergers the vogue right now and getting way much attention yes course according wiki socion described such error find your post fascinating was raised christian jewish and there are parts that love and parts that not was thinking trying church seems very inviting and this interesting just realized that istp and enfp are ideal dual relationships according socionics and think makes lot sense have always been attracted the istp can believe something without having certain nor the two beliefs need mutually exclusive can believe something with very little confidence factor maybe even low actually just found out from experience when some one repeatedly does some thing demeaning way even though said that really bothers especially physical for ahh yes crow well said atheist theist discussions are very difficult because they usually beat around the bush some technical way when either party must come with what believe man haha this was priceless always concerned about people perception myself and specifically about how people read writings even kid would rather read writings words and touch not any particular order what about esperanto nah partial french speak spanish but not find very eloquent all english very complex and vast find that can things other languages hmwith that link broken but found the blog actually going rescind the whole thing think but being enfp still very attracted certain things that think had break through think that puts facade think some way idealize fantasize about personality being more gregarious and experimental than man read all that page really great site but still uncertain score seven all the time tests long shot but after reading all the descriptions think would man really curious because thought was but now think could well after reading these descriptions feel like some ways waay more like but other ways more she sounds hot laughing well mean you are german thought was minor taboo patriotic germany but yea think patriotism kind weird too american patriotism seems more like brainwashing than making something that complex seem over simplified resulting bigotry with false pretense statement like ohh those radical egyptians just want establish radical islamic state yea played games like that well until was older played games that were mainly from pop culture every one one had shared experience draw must have been eleven and can relevant how can not write gone haha yea tend believe things face value and find out some one has ulterior motives pretty shocked about but would say that filter petty scheming people out life right there with want skydiving really badly was wondering what day was lol thought some odd things really fast not know hmmm guess have very developed sensor ability because grew with older brother that means was very athletic did varsity sports and love being active seems like yea that right was thinking istp well never mind the only person know that might istj some one who strikes very odd and some what unattractive bit cold ready any time any where that awesome'"
            ],
            "application/vnd.google.colaboratory.intrinsic+json": {
              "type": "string"
            }
          },
          "metadata": {},
          "execution_count": 14
        }
      ],
      "source": [
        "data.loc[7,\"cleaned_post\"]"
      ]
    },
    {
      "cell_type": "code",
      "execution_count": null,
      "metadata": {
        "colab": {
          "base_uri": "https://localhost:8080/",
          "height": 206
        },
        "id": "qMT0pVsOL0O0",
        "outputId": "ee9a4f14-54e8-4621-8976-67e4b5714ac6"
      },
      "outputs": [
        {
          "output_type": "execute_result",
          "data": {
            "text/plain": [
              "   type                                              posts E-I N-S F-T J-P  \\\n",
              "0  ISFJ  Everything you said here is spot on.|||Ti = 62...   I   S   F   J   \n",
              "1  ESFP  That's okay, everybody has their preferences. ...   E   S   F   P   \n",
              "2  ENFJ  I laughed so hard at the post, and especially ...   E   N   F   J   \n",
              "3  ISFP  My best friend and bass player in my band is I...   I   S   F   P   \n",
              "4  ESFJ  Birds of prey always look angry. It's the... b...   E   S   F   J   \n",
              "\n",
              "                                        cleaned_post  words_count  \n",
              "0  everything you said here spot mmmmmmmm ekac no...          610  \n",
              "1  that okay everybody has their preferences also...          760  \n",
              "2  laughed hard the post and especially this line...          797  \n",
              "3  best friend and bass player band intp fun most...          820  \n",
              "4  birds prey always look angry the bits that wou...          813  "
            ],
            "text/html": [
              "\n",
              "  <div id=\"df-8a0c2ce7-4211-406c-afa4-8bb66db42347\">\n",
              "    <div class=\"colab-df-container\">\n",
              "      <div>\n",
              "<style scoped>\n",
              "    .dataframe tbody tr th:only-of-type {\n",
              "        vertical-align: middle;\n",
              "    }\n",
              "\n",
              "    .dataframe tbody tr th {\n",
              "        vertical-align: top;\n",
              "    }\n",
              "\n",
              "    .dataframe thead th {\n",
              "        text-align: right;\n",
              "    }\n",
              "</style>\n",
              "<table border=\"1\" class=\"dataframe\">\n",
              "  <thead>\n",
              "    <tr style=\"text-align: right;\">\n",
              "      <th></th>\n",
              "      <th>type</th>\n",
              "      <th>posts</th>\n",
              "      <th>E-I</th>\n",
              "      <th>N-S</th>\n",
              "      <th>F-T</th>\n",
              "      <th>J-P</th>\n",
              "      <th>cleaned_post</th>\n",
              "      <th>words_count</th>\n",
              "    </tr>\n",
              "  </thead>\n",
              "  <tbody>\n",
              "    <tr>\n",
              "      <th>0</th>\n",
              "      <td>ISFJ</td>\n",
              "      <td>Everything you said here is spot on.|||Ti = 62...</td>\n",
              "      <td>I</td>\n",
              "      <td>S</td>\n",
              "      <td>F</td>\n",
              "      <td>J</td>\n",
              "      <td>everything you said here spot mmmmmmmm ekac no...</td>\n",
              "      <td>610</td>\n",
              "    </tr>\n",
              "    <tr>\n",
              "      <th>1</th>\n",
              "      <td>ESFP</td>\n",
              "      <td>That's okay, everybody has their preferences. ...</td>\n",
              "      <td>E</td>\n",
              "      <td>S</td>\n",
              "      <td>F</td>\n",
              "      <td>P</td>\n",
              "      <td>that okay everybody has their preferences also...</td>\n",
              "      <td>760</td>\n",
              "    </tr>\n",
              "    <tr>\n",
              "      <th>2</th>\n",
              "      <td>ENFJ</td>\n",
              "      <td>I laughed so hard at the post, and especially ...</td>\n",
              "      <td>E</td>\n",
              "      <td>N</td>\n",
              "      <td>F</td>\n",
              "      <td>J</td>\n",
              "      <td>laughed hard the post and especially this line...</td>\n",
              "      <td>797</td>\n",
              "    </tr>\n",
              "    <tr>\n",
              "      <th>3</th>\n",
              "      <td>ISFP</td>\n",
              "      <td>My best friend and bass player in my band is I...</td>\n",
              "      <td>I</td>\n",
              "      <td>S</td>\n",
              "      <td>F</td>\n",
              "      <td>P</td>\n",
              "      <td>best friend and bass player band intp fun most...</td>\n",
              "      <td>820</td>\n",
              "    </tr>\n",
              "    <tr>\n",
              "      <th>4</th>\n",
              "      <td>ESFJ</td>\n",
              "      <td>Birds of prey always look angry. It's the... b...</td>\n",
              "      <td>E</td>\n",
              "      <td>S</td>\n",
              "      <td>F</td>\n",
              "      <td>J</td>\n",
              "      <td>birds prey always look angry the bits that wou...</td>\n",
              "      <td>813</td>\n",
              "    </tr>\n",
              "  </tbody>\n",
              "</table>\n",
              "</div>\n",
              "      <button class=\"colab-df-convert\" onclick=\"convertToInteractive('df-8a0c2ce7-4211-406c-afa4-8bb66db42347')\"\n",
              "              title=\"Convert this dataframe to an interactive table.\"\n",
              "              style=\"display:none;\">\n",
              "        \n",
              "  <svg xmlns=\"http://www.w3.org/2000/svg\" height=\"24px\"viewBox=\"0 0 24 24\"\n",
              "       width=\"24px\">\n",
              "    <path d=\"M0 0h24v24H0V0z\" fill=\"none\"/>\n",
              "    <path d=\"M18.56 5.44l.94 2.06.94-2.06 2.06-.94-2.06-.94-.94-2.06-.94 2.06-2.06.94zm-11 1L8.5 8.5l.94-2.06 2.06-.94-2.06-.94L8.5 2.5l-.94 2.06-2.06.94zm10 10l.94 2.06.94-2.06 2.06-.94-2.06-.94-.94-2.06-.94 2.06-2.06.94z\"/><path d=\"M17.41 7.96l-1.37-1.37c-.4-.4-.92-.59-1.43-.59-.52 0-1.04.2-1.43.59L10.3 9.45l-7.72 7.72c-.78.78-.78 2.05 0 2.83L4 21.41c.39.39.9.59 1.41.59.51 0 1.02-.2 1.41-.59l7.78-7.78 2.81-2.81c.8-.78.8-2.07 0-2.86zM5.41 20L4 18.59l7.72-7.72 1.47 1.35L5.41 20z\"/>\n",
              "  </svg>\n",
              "      </button>\n",
              "      \n",
              "  <style>\n",
              "    .colab-df-container {\n",
              "      display:flex;\n",
              "      flex-wrap:wrap;\n",
              "      gap: 12px;\n",
              "    }\n",
              "\n",
              "    .colab-df-convert {\n",
              "      background-color: #E8F0FE;\n",
              "      border: none;\n",
              "      border-radius: 50%;\n",
              "      cursor: pointer;\n",
              "      display: none;\n",
              "      fill: #1967D2;\n",
              "      height: 32px;\n",
              "      padding: 0 0 0 0;\n",
              "      width: 32px;\n",
              "    }\n",
              "\n",
              "    .colab-df-convert:hover {\n",
              "      background-color: #E2EBFA;\n",
              "      box-shadow: 0px 1px 2px rgba(60, 64, 67, 0.3), 0px 1px 3px 1px rgba(60, 64, 67, 0.15);\n",
              "      fill: #174EA6;\n",
              "    }\n",
              "\n",
              "    [theme=dark] .colab-df-convert {\n",
              "      background-color: #3B4455;\n",
              "      fill: #D2E3FC;\n",
              "    }\n",
              "\n",
              "    [theme=dark] .colab-df-convert:hover {\n",
              "      background-color: #434B5C;\n",
              "      box-shadow: 0px 1px 3px 1px rgba(0, 0, 0, 0.15);\n",
              "      filter: drop-shadow(0px 1px 2px rgba(0, 0, 0, 0.3));\n",
              "      fill: #FFFFFF;\n",
              "    }\n",
              "  </style>\n",
              "\n",
              "      <script>\n",
              "        const buttonEl =\n",
              "          document.querySelector('#df-8a0c2ce7-4211-406c-afa4-8bb66db42347 button.colab-df-convert');\n",
              "        buttonEl.style.display =\n",
              "          google.colab.kernel.accessAllowed ? 'block' : 'none';\n",
              "\n",
              "        async function convertToInteractive(key) {\n",
              "          const element = document.querySelector('#df-8a0c2ce7-4211-406c-afa4-8bb66db42347');\n",
              "          const dataTable =\n",
              "            await google.colab.kernel.invokeFunction('convertToInteractive',\n",
              "                                                     [key], {});\n",
              "          if (!dataTable) return;\n",
              "\n",
              "          const docLinkHtml = 'Like what you see? Visit the ' +\n",
              "            '<a target=\"_blank\" href=https://colab.research.google.com/notebooks/data_table.ipynb>data table notebook</a>'\n",
              "            + ' to learn more about interactive tables.';\n",
              "          element.innerHTML = '';\n",
              "          dataTable['output_type'] = 'display_data';\n",
              "          await google.colab.output.renderOutput(dataTable, element);\n",
              "          const docLink = document.createElement('div');\n",
              "          docLink.innerHTML = docLinkHtml;\n",
              "          element.appendChild(docLink);\n",
              "        }\n",
              "      </script>\n",
              "    </div>\n",
              "  </div>\n",
              "  "
            ]
          },
          "metadata": {},
          "execution_count": 15
        }
      ],
      "source": [
        "data[\"words_count\"] = data[\"cleaned_post\"].apply(lambda x: len(x.split()))\n",
        "data.head(5)"
      ]
    },
    {
      "cell_type": "code",
      "execution_count": null,
      "metadata": {
        "id": "qeB0lsHjL0O1"
      },
      "outputs": [],
      "source": [
        "def plot_counts(df, column, xlabel):\n",
        "    fig = plt.figure()\n",
        "    plt.xlabel(xlabel)\n",
        "    plt.ylabel(\"Frequency\")\n",
        "    df[column].plot.hist(bins=25)"
      ]
    },
    {
      "cell_type": "code",
      "execution_count": null,
      "metadata": {
        "colab": {
          "base_uri": "https://localhost:8080/",
          "height": 449
        },
        "id": "M7qwblnIL0O1",
        "outputId": "3ac99318-3cb1-47b1-dd0b-44839be73cde"
      },
      "outputs": [
        {
          "output_type": "display_data",
          "data": {
            "text/plain": [
              "<Figure size 640x480 with 1 Axes>"
            ],
            "image/png": "[encoded data removed]"
          },
          "metadata": {}
        }
      ],
      "source": [
        "plot_counts(data, column=\"words_count\", xlabel=\"Words Count\")"
      ]
    },
    {
      "cell_type": "code",
      "execution_count": null,
      "metadata": {
        "colab": {
          "base_uri": "https://localhost:8080/",
          "height": 206
        },
        "id": "RmbGGQxHL0O2",
        "outputId": "785136e8-4059-479c-cfa9-9fd55e22d427"
      },
      "outputs": [
        {
          "output_type": "execute_result",
          "data": {
            "text/plain": [
              "   type                                              posts E-I N-S F-T J-P  \\\n",
              "0  ISFJ  Everything you said here is spot on.|||Ti = 62...   I   S   F   J   \n",
              "1  ESFP  That's okay, everybody has their preferences. ...   E   S   F   P   \n",
              "2  ENFJ  I laughed so hard at the post, and especially ...   E   N   F   J   \n",
              "3  ISFP  My best friend and bass player in my band is I...   I   S   F   P   \n",
              "4  ESFJ  Birds of prey always look angry. It's the... b...   E   S   F   J   \n",
              "\n",
              "                                        cleaned_post  words_count  char_count  \n",
              "0  everything you said here spot mmmmmmmm ekac no...          610        3600  \n",
              "1  that okay everybody has their preferences also...          760        4598  \n",
              "2  laughed hard the post and especially this line...          797        4644  \n",
              "3  best friend and bass player band intp fun most...          820        5047  \n",
              "4  birds prey always look angry the bits that wou...          813        4879  "
            ],
            "text/html": [
              "\n",
              "  <div id=\"df-1b91381c-6b62-4213-840b-1c7a57f0612d\">\n",
              "    <div class=\"colab-df-container\">\n",
              "      <div>\n",
              "<style scoped>\n",
              "    .dataframe tbody tr th:only-of-type {\n",
              "        vertical-align: middle;\n",
              "    }\n",
              "\n",
              "    .dataframe tbody tr th {\n",
              "        vertical-align: top;\n",
              "    }\n",
              "\n",
              "    .dataframe thead th {\n",
              "        text-align: right;\n",
              "    }\n",
              "</style>\n",
              "<table border=\"1\" class=\"dataframe\">\n",
              "  <thead>\n",
              "    <tr style=\"text-align: right;\">\n",
              "      <th></th>\n",
              "      <th>type</th>\n",
              "      <th>posts</th>\n",
              "      <th>E-I</th>\n",
              "      <th>N-S</th>\n",
              "      <th>F-T</th>\n",
              "      <th>J-P</th>\n",
              "      <th>cleaned_post</th>\n",
              "      <th>words_count</th>\n",
              "      <th>char_count</th>\n",
              "    </tr>\n",
              "  </thead>\n",
              "  <tbody>\n",
              "    <tr>\n",
              "      <th>0</th>\n",
              "      <td>ISFJ</td>\n",
              "      <td>Everything you said here is spot on.|||Ti = 62...</td>\n",
              "      <td>I</td>\n",
              "      <td>S</td>\n",
              "      <td>F</td>\n",
              "      <td>J</td>\n",
              "      <td>everything you said here spot mmmmmmmm ekac no...</td>\n",
              "      <td>610</td>\n",
              "      <td>3600</td>\n",
              "    </tr>\n",
              "    <tr>\n",
              "      <th>1</th>\n",
              "      <td>ESFP</td>\n",
              "      <td>That's okay, everybody has their preferences. ...</td>\n",
              "      <td>E</td>\n",
              "      <td>S</td>\n",
              "      <td>F</td>\n",
              "      <td>P</td>\n",
              "      <td>that okay everybody has their preferences also...</td>\n",
              "      <td>760</td>\n",
              "      <td>4598</td>\n",
              "    </tr>\n",
              "    <tr>\n",
              "      <th>2</th>\n",
              "      <td>ENFJ</td>\n",
              "      <td>I laughed so hard at the post, and especially ...</td>\n",
              "      <td>E</td>\n",
              "      <td>N</td>\n",
              "      <td>F</td>\n",
              "      <td>J</td>\n",
              "      <td>laughed hard the post and especially this line...</td>\n",
              "      <td>797</td>\n",
              "      <td>4644</td>\n",
              "    </tr>\n",
              "    <tr>\n",
              "      <th>3</th>\n",
              "      <td>ISFP</td>\n",
              "      <td>My best friend and bass player in my band is I...</td>\n",
              "      <td>I</td>\n",
              "      <td>S</td>\n",
              "      <td>F</td>\n",
              "      <td>P</td>\n",
              "      <td>best friend and bass player band intp fun most...</td>\n",
              "      <td>820</td>\n",
              "      <td>5047</td>\n",
              "    </tr>\n",
              "    <tr>\n",
              "      <th>4</th>\n",
              "      <td>ESFJ</td>\n",
              "      <td>Birds of prey always look angry. It's the... b...</td>\n",
              "      <td>E</td>\n",
              "      <td>S</td>\n",
              "      <td>F</td>\n",
              "      <td>J</td>\n",
              "      <td>birds prey always look angry the bits that wou...</td>\n",
              "      <td>813</td>\n",
              "      <td>4879</td>\n",
              "    </tr>\n",
              "  </tbody>\n",
              "</table>\n",
              "</div>\n",
              "      <button class=\"colab-df-convert\" onclick=\"convertToInteractive('df-1b91381c-6b62-4213-840b-1c7a57f0612d')\"\n",
              "              title=\"Convert this dataframe to an interactive table.\"\n",
              "              style=\"display:none;\">\n",
              "        \n",
              "  <svg xmlns=\"http://www.w3.org/2000/svg\" height=\"24px\"viewBox=\"0 0 24 24\"\n",
              "       width=\"24px\">\n",
              "    <path d=\"M0 0h24v24H0V0z\" fill=\"none\"/>\n",
              "    <path d=\"M18.56 5.44l.94 2.06.94-2.06 2.06-.94-2.06-.94-.94-2.06-.94 2.06-2.06.94zm-11 1L8.5 8.5l.94-2.06 2.06-.94-2.06-.94L8.5 2.5l-.94 2.06-2.06.94zm10 10l.94 2.06.94-2.06 2.06-.94-2.06-.94-.94-2.06-.94 2.06-2.06.94z\"/><path d=\"M17.41 7.96l-1.37-1.37c-.4-.4-.92-.59-1.43-.59-.52 0-1.04.2-1.43.59L10.3 9.45l-7.72 7.72c-.78.78-.78 2.05 0 2.83L4 21.41c.39.39.9.59 1.41.59.51 0 1.02-.2 1.41-.59l7.78-7.78 2.81-2.81c.8-.78.8-2.07 0-2.86zM5.41 20L4 18.59l7.72-7.72 1.47 1.35L5.41 20z\"/>\n",
              "  </svg>\n",
              "      </button>\n",
              "      \n",
              "  <style>\n",
              "    .colab-df-container {\n",
              "      display:flex;\n",
              "      flex-wrap:wrap;\n",
              "      gap: 12px;\n",
              "    }\n",
              "\n",
              "    .colab-df-convert {\n",
              "      background-color: #E8F0FE;\n",
              "      border: none;\n",
              "      border-radius: 50%;\n",
              "      cursor: pointer;\n",
              "      display: none;\n",
              "      fill: #1967D2;\n",
              "      height: 32px;\n",
              "      padding: 0 0 0 0;\n",
              "      width: 32px;\n",
              "    }\n",
              "\n",
              "    .colab-df-convert:hover {\n",
              "      background-color: #E2EBFA;\n",
              "      box-shadow: 0px 1px 2px rgba(60, 64, 67, 0.3), 0px 1px 3px 1px rgba(60, 64, 67, 0.15);\n",
              "      fill: #174EA6;\n",
              "    }\n",
              "\n",
              "    [theme=dark] .colab-df-convert {\n",
              "      background-color: #3B4455;\n",
              "      fill: #D2E3FC;\n",
              "    }\n",
              "\n",
              "    [theme=dark] .colab-df-convert:hover {\n",
              "      background-color: #434B5C;\n",
              "      box-shadow: 0px 1px 3px 1px rgba(0, 0, 0, 0.15);\n",
              "      filter: drop-shadow(0px 1px 2px rgba(0, 0, 0, 0.3));\n",
              "      fill: #FFFFFF;\n",
              "    }\n",
              "  </style>\n",
              "\n",
              "      <script>\n",
              "        const buttonEl =\n",
              "          document.querySelector('#df-1b91381c-6b62-4213-840b-1c7a57f0612d button.colab-df-convert');\n",
              "        buttonEl.style.display =\n",
              "          google.colab.kernel.accessAllowed ? 'block' : 'none';\n",
              "\n",
              "        async function convertToInteractive(key) {\n",
              "          const element = document.querySelector('#df-1b91381c-6b62-4213-840b-1c7a57f0612d');\n",
              "          const dataTable =\n",
              "            await google.colab.kernel.invokeFunction('convertToInteractive',\n",
              "                                                     [key], {});\n",
              "          if (!dataTable) return;\n",
              "\n",
              "          const docLinkHtml = 'Like what you see? Visit the ' +\n",
              "            '<a target=\"_blank\" href=https://colab.research.google.com/notebooks/data_table.ipynb>data table notebook</a>'\n",
              "            + ' to learn more about interactive tables.';\n",
              "          element.innerHTML = '';\n",
              "          dataTable['output_type'] = 'display_data';\n",
              "          await google.colab.output.renderOutput(dataTable, element);\n",
              "          const docLink = document.createElement('div');\n",
              "          docLink.innerHTML = docLinkHtml;\n",
              "          element.appendChild(docLink);\n",
              "        }\n",
              "      </script>\n",
              "    </div>\n",
              "  </div>\n",
              "  "
            ]
          },
          "metadata": {},
          "execution_count": 18
        }
      ],
      "source": [
        "data[\"char_count\"] = data[\"cleaned_post\"].apply(lambda x: len(x))\n",
        "data.head(5)"
      ]
    },
    {
      "cell_type": "code",
      "execution_count": null,
      "metadata": {
        "colab": {
          "base_uri": "https://localhost:8080/",
          "height": 449
        },
        "id": "lkM__LJ7L0O4",
        "outputId": "b1fc19ff-ca45-43c9-a469-ca850fc71f3c"
      },
      "outputs": [
        {
          "output_type": "display_data",
          "data": {
            "text/plain": [
              "<Figure size 640x480 with 1 Axes>"
            ],
            "image/png": "[encoded data removed]"
          },
          "metadata": {}
        }
      ],
      "source": [
        "plot_counts(data, column=\"char_count\", xlabel=\"Character Count\")"
      ]
    },
    {
      "cell_type": "markdown",
      "metadata": {
        "id": "QV_BoqfHL0O5"
      },
      "source": [
        "### Most Frequent Words"
      ]
    },
    {
      "cell_type": "code",
      "execution_count": null,
      "metadata": {
        "colab": {
          "base_uri": "https://localhost:8080/"
        },
        "id": "ubM_CdUsL0O5",
        "outputId": "74308529-e755-4979-b8ad-85612d52845a"
      },
      "outputs": [
        {
          "output_type": "stream",
          "name": "stderr",
          "text": [
            "[nltk_data] Downloading package stopwords to /root/nltk_data...\n",
            "[nltk_data]   Unzipping corpora/stopwords.zip.\n"
          ]
        }
      ],
      "source": [
        "nltk.download('stopwords')\n",
        "stopword_list = stopwords.words(\"english\")"
      ]
    },
    {
      "cell_type": "code",
      "execution_count": null,
      "metadata": {
        "id": "UZH3b4NXL0O5"
      },
      "outputs": [],
      "source": [
        "def get_most_frequent(data, stop_words, column=\"cleaned_post\", top=25):\n",
        "    df = data[column].apply(lambda x: \" \".join([word for word in x.split() if not word in stop_words]))\n",
        "    counter = Counter(\" \".join(df).split())\n",
        "    return counter.most_common(top)"
      ]
    },
    {
      "cell_type": "code",
      "execution_count": null,
      "metadata": {
        "colab": {
          "base_uri": "https://localhost:8080/"
        },
        "id": "oaoFLzN7L0O6",
        "outputId": "0d3a4fc9-6304-4389-9b3a-e3fe36797f4a"
      },
      "outputs": [
        {
          "output_type": "execute_result",
          "data": {
            "text/plain": [
              "[('like', 210106),\n",
              " ('would', 157598),\n",
              " ('think', 151893),\n",
              " ('people', 142121),\n",
              " ('know', 116036),\n",
              " ('one', 108160),\n",
              " ('really', 104742),\n",
              " ('get', 96442),\n",
              " ('time', 81970),\n",
              " ('well', 70988)]"
            ]
          },
          "metadata": {},
          "execution_count": 22
        }
      ],
      "source": [
        "most_frequents = get_most_frequent(data, stopword_list)\n",
        "most_frequents[:10]"
      ]
    },
    {
      "cell_type": "markdown",
      "metadata": {
        "id": "EnWIAO4rL0O_"
      },
      "source": [
        "### N-Grams"
      ]
    },
    {
      "cell_type": "code",
      "execution_count": null,
      "metadata": {
        "id": "tEbaIhDEL0PA"
      },
      "outputs": [],
      "source": [
        "def get_ngrams(data, n_gram, new_column, column=\"cleaned_post\"):\n",
        "    data[\"tokenized\"]  = data[column].apply(lambda x: x.split())\n",
        "    data[\"sw_removal\"] = data[\"tokenized\"].apply(lambda x: [y for y in x if not y in stopword_list])\n",
        "    data[new_column]   = data[\"sw_removal\"].apply(lambda x: list(ngrams(x, n_gram)))\n",
        "    data.drop(columns  = [\"tokenized\", \"sw_removal\"], inplace=True)\n",
        "    return data"
      ]
    },
    {
      "cell_type": "code",
      "execution_count": null,
      "metadata": {
        "colab": {
          "base_uri": "https://localhost:8080/",
          "height": 206
        },
        "id": "svBcfumlL0PA",
        "outputId": "86759253-359e-4acb-a962-c682a16db637"
      },
      "outputs": [
        {
          "output_type": "execute_result",
          "data": {
            "text/plain": [
              "   type                                              posts E-I N-S F-T J-P  \\\n",
              "0  ISFJ  Everything you said here is spot on.|||Ti = 62...   I   S   F   J   \n",
              "1  ESFP  That's okay, everybody has their preferences. ...   E   S   F   P   \n",
              "2  ENFJ  I laughed so hard at the post, and especially ...   E   N   F   J   \n",
              "3  ISFP  My best friend and bass player in my band is I...   I   S   F   P   \n",
              "4  ESFJ  Birds of prey always look angry. It's the... b...   E   S   F   J   \n",
              "\n",
              "                                        cleaned_post  words_count  char_count  \\\n",
              "0  everything you said here spot mmmmmmmm ekac no...          610        3600   \n",
              "1  that okay everybody has their preferences also...          760        4598   \n",
              "2  laughed hard the post and especially this line...          797        4644   \n",
              "3  best friend and bass player band intp fun most...          820        5047   \n",
              "4  birds prey always look angry the bits that wou...          813        4879   \n",
              "\n",
              "                                             bigrams  \n",
              "0  [(everything, said), (said, spot), (spot, mmmm...  \n",
              "1  [(okay, everybody), (everybody, preferences), ...  \n",
              "2  [(laughed, hard), (hard, post), (post, especia...  \n",
              "3  [(best, friend), (friend, bass), (bass, player...  \n",
              "4  [(birds, prey), (prey, always), (always, look)...  "
            ],
            "text/html": [
              "\n",
              "  <div id=\"df-a8675d80-e950-496e-b24b-da3a73f43036\">\n",
              "    <div class=\"colab-df-container\">\n",
              "      <div>\n",
              "<style scoped>\n",
              "    .dataframe tbody tr th:only-of-type {\n",
              "        vertical-align: middle;\n",
              "    }\n",
              "\n",
              "    .dataframe tbody tr th {\n",
              "        vertical-align: top;\n",
              "    }\n",
              "\n",
              "    .dataframe thead th {\n",
              "        text-align: right;\n",
              "    }\n",
              "</style>\n",
              "<table border=\"1\" class=\"dataframe\">\n",
              "  <thead>\n",
              "    <tr style=\"text-align: right;\">\n",
              "      <th></th>\n",
              "      <th>type</th>\n",
              "      <th>posts</th>\n",
              "      <th>E-I</th>\n",
              "      <th>N-S</th>\n",
              "      <th>F-T</th>\n",
              "      <th>J-P</th>\n",
              "      <th>cleaned_post</th>\n",
              "      <th>words_count</th>\n",
              "      <th>char_count</th>\n",
              "      <th>bigrams</th>\n",
              "    </tr>\n",
              "  </thead>\n",
              "  <tbody>\n",
              "    <tr>\n",
              "      <th>0</th>\n",
              "      <td>ISFJ</td>\n",
              "      <td>Everything you said here is spot on.|||Ti = 62...</td>\n",
              "      <td>I</td>\n",
              "      <td>S</td>\n",
              "      <td>F</td>\n",
              "      <td>J</td>\n",
              "      <td>everything you said here spot mmmmmmmm ekac no...</td>\n",
              "      <td>610</td>\n",
              "      <td>3600</td>\n",
              "      <td>[(everything, said), (said, spot), (spot, mmmm...</td>\n",
              "    </tr>\n",
              "    <tr>\n",
              "      <th>1</th>\n",
              "      <td>ESFP</td>\n",
              "      <td>That's okay, everybody has their preferences. ...</td>\n",
              "      <td>E</td>\n",
              "      <td>S</td>\n",
              "      <td>F</td>\n",
              "      <td>P</td>\n",
              "      <td>that okay everybody has their preferences also...</td>\n",
              "      <td>760</td>\n",
              "      <td>4598</td>\n",
              "      <td>[(okay, everybody), (everybody, preferences), ...</td>\n",
              "    </tr>\n",
              "    <tr>\n",
              "      <th>2</th>\n",
              "      <td>ENFJ</td>\n",
              "      <td>I laughed so hard at the post, and especially ...</td>\n",
              "      <td>E</td>\n",
              "      <td>N</td>\n",
              "      <td>F</td>\n",
              "      <td>J</td>\n",
              "      <td>laughed hard the post and especially this line...</td>\n",
              "      <td>797</td>\n",
              "      <td>4644</td>\n",
              "      <td>[(laughed, hard), (hard, post), (post, especia...</td>\n",
              "    </tr>\n",
              "    <tr>\n",
              "      <th>3</th>\n",
              "      <td>ISFP</td>\n",
              "      <td>My best friend and bass player in my band is I...</td>\n",
              "      <td>I</td>\n",
              "      <td>S</td>\n",
              "      <td>F</td>\n",
              "      <td>P</td>\n",
              "      <td>best friend and bass player band intp fun most...</td>\n",
              "      <td>820</td>\n",
              "      <td>5047</td>\n",
              "      <td>[(best, friend), (friend, bass), (bass, player...</td>\n",
              "    </tr>\n",
              "    <tr>\n",
              "      <th>4</th>\n",
              "      <td>ESFJ</td>\n",
              "      <td>Birds of prey always look angry. It's the... b...</td>\n",
              "      <td>E</td>\n",
              "      <td>S</td>\n",
              "      <td>F</td>\n",
              "      <td>J</td>\n",
              "      <td>birds prey always look angry the bits that wou...</td>\n",
              "      <td>813</td>\n",
              "      <td>4879</td>\n",
              "      <td>[(birds, prey), (prey, always), (always, look)...</td>\n",
              "    </tr>\n",
              "  </tbody>\n",
              "</table>\n",
              "</div>\n",
              "      <button class=\"colab-df-convert\" onclick=\"convertToInteractive('df-a8675d80-e950-496e-b24b-da3a73f43036')\"\n",
              "              title=\"Convert this dataframe to an interactive table.\"\n",
              "              style=\"display:none;\">\n",
              "        \n",
              "  <svg xmlns=\"http://www.w3.org/2000/svg\" height=\"24px\"viewBox=\"0 0 24 24\"\n",
              "       width=\"24px\">\n",
              "    <path d=\"M0 0h24v24H0V0z\" fill=\"none\"/>\n",
              "    <path d=\"M18.56 5.44l.94 2.06.94-2.06 2.06-.94-2.06-.94-.94-2.06-.94 2.06-2.06.94zm-11 1L8.5 8.5l.94-2.06 2.06-.94-2.06-.94L8.5 2.5l-.94 2.06-2.06.94zm10 10l.94 2.06.94-2.06 2.06-.94-2.06-.94-.94-2.06-.94 2.06-2.06.94z\"/><path d=\"M17.41 7.96l-1.37-1.37c-.4-.4-.92-.59-1.43-.59-.52 0-1.04.2-1.43.59L10.3 9.45l-7.72 7.72c-.78.78-.78 2.05 0 2.83L4 21.41c.39.39.9.59 1.41.59.51 0 1.02-.2 1.41-.59l7.78-7.78 2.81-2.81c.8-.78.8-2.07 0-2.86zM5.41 20L4 18.59l7.72-7.72 1.47 1.35L5.41 20z\"/>\n",
              "  </svg>\n",
              "      </button>\n",
              "      \n",
              "  <style>\n",
              "    .colab-df-container {\n",
              "      display:flex;\n",
              "      flex-wrap:wrap;\n",
              "      gap: 12px;\n",
              "    }\n",
              "\n",
              "    .colab-df-convert {\n",
              "      background-color: #E8F0FE;\n",
              "      border: none;\n",
              "      border-radius: 50%;\n",
              "      cursor: pointer;\n",
              "      display: none;\n",
              "      fill: #1967D2;\n",
              "      height: 32px;\n",
              "      padding: 0 0 0 0;\n",
              "      width: 32px;\n",
              "    }\n",
              "\n",
              "    .colab-df-convert:hover {\n",
              "      background-color: #E2EBFA;\n",
              "      box-shadow: 0px 1px 2px rgba(60, 64, 67, 0.3), 0px 1px 3px 1px rgba(60, 64, 67, 0.15);\n",
              "      fill: #174EA6;\n",
              "    }\n",
              "\n",
              "    [theme=dark] .colab-df-convert {\n",
              "      background-color: #3B4455;\n",
              "      fill: #D2E3FC;\n",
              "    }\n",
              "\n",
              "    [theme=dark] .colab-df-convert:hover {\n",
              "      background-color: #434B5C;\n",
              "      box-shadow: 0px 1px 3px 1px rgba(0, 0, 0, 0.15);\n",
              "      filter: drop-shadow(0px 1px 2px rgba(0, 0, 0, 0.3));\n",
              "      fill: #FFFFFF;\n",
              "    }\n",
              "  </style>\n",
              "\n",
              "      <script>\n",
              "        const buttonEl =\n",
              "          document.querySelector('#df-a8675d80-e950-496e-b24b-da3a73f43036 button.colab-df-convert');\n",
              "        buttonEl.style.display =\n",
              "          google.colab.kernel.accessAllowed ? 'block' : 'none';\n",
              "\n",
              "        async function convertToInteractive(key) {\n",
              "          const element = document.querySelector('#df-a8675d80-e950-496e-b24b-da3a73f43036');\n",
              "          const dataTable =\n",
              "            await google.colab.kernel.invokeFunction('convertToInteractive',\n",
              "                                                     [key], {});\n",
              "          if (!dataTable) return;\n",
              "\n",
              "          const docLinkHtml = 'Like what you see? Visit the ' +\n",
              "            '<a target=\"_blank\" href=https://colab.research.google.com/notebooks/data_table.ipynb>data table notebook</a>'\n",
              "            + ' to learn more about interactive tables.';\n",
              "          element.innerHTML = '';\n",
              "          dataTable['output_type'] = 'display_data';\n",
              "          await google.colab.output.renderOutput(dataTable, element);\n",
              "          const docLink = document.createElement('div');\n",
              "          docLink.innerHTML = docLinkHtml;\n",
              "          element.appendChild(docLink);\n",
              "        }\n",
              "      </script>\n",
              "    </div>\n",
              "  </div>\n",
              "  "
            ]
          },
          "metadata": {},
          "execution_count": 24
        }
      ],
      "source": [
        "data = get_ngrams(data, n_gram=2, new_column=\"bigrams\")\n",
        "data.head()"
      ]
    },
    {
      "cell_type": "code",
      "execution_count": null,
      "metadata": {
        "colab": {
          "base_uri": "https://localhost:8080/",
          "height": 354
        },
        "id": "OXRl2xMiL0PB",
        "outputId": "bc0412d2-e160-4643-b91b-a6f151744561"
      },
      "outputs": [
        {
          "output_type": "execute_result",
          "data": {
            "text/plain": [
              "   type                                              posts E-I N-S F-T J-P  \\\n",
              "0  ISFJ  Everything you said here is spot on.|||Ti = 62...   I   S   F   J   \n",
              "1  ESFP  That's okay, everybody has their preferences. ...   E   S   F   P   \n",
              "2  ENFJ  I laughed so hard at the post, and especially ...   E   N   F   J   \n",
              "3  ISFP  My best friend and bass player in my band is I...   I   S   F   P   \n",
              "4  ESFJ  Birds of prey always look angry. It's the... b...   E   S   F   J   \n",
              "\n",
              "                                        cleaned_post  words_count  char_count  \\\n",
              "0  everything you said here spot mmmmmmmm ekac no...          610        3600   \n",
              "1  that okay everybody has their preferences also...          760        4598   \n",
              "2  laughed hard the post and especially this line...          797        4644   \n",
              "3  best friend and bass player band intp fun most...          820        5047   \n",
              "4  birds prey always look angry the bits that wou...          813        4879   \n",
              "\n",
              "                                             bigrams  \\\n",
              "0  [(everything, said), (said, spot), (spot, mmmm...   \n",
              "1  [(okay, everybody), (everybody, preferences), ...   \n",
              "2  [(laughed, hard), (hard, post), (post, especia...   \n",
              "3  [(best, friend), (friend, bass), (bass, player...   \n",
              "4  [(birds, prey), (prey, always), (always, look)...   \n",
              "\n",
              "                                            trigrams  \n",
              "0  [(everything, said, spot), (said, spot, mmmmmm...  \n",
              "1  [(okay, everybody, preferences), (everybody, p...  \n",
              "2  [(laughed, hard, post), (hard, post, especiall...  \n",
              "3  [(best, friend, bass), (friend, bass, player),...  \n",
              "4  [(birds, prey, always), (prey, always, look), ...  "
            ],
            "text/html": [
              "\n",
              "  <div id=\"df-7098ed11-f805-459f-b1ee-7e88ee27b4a0\">\n",
              "    <div class=\"colab-df-container\">\n",
              "      <div>\n",
              "<style scoped>\n",
              "    .dataframe tbody tr th:only-of-type {\n",
              "        vertical-align: middle;\n",
              "    }\n",
              "\n",
              "    .dataframe tbody tr th {\n",
              "        vertical-align: top;\n",
              "    }\n",
              "\n",
              "    .dataframe thead th {\n",
              "        text-align: right;\n",
              "    }\n",
              "</style>\n",
              "<table border=\"1\" class=\"dataframe\">\n",
              "  <thead>\n",
              "    <tr style=\"text-align: right;\">\n",
              "      <th></th>\n",
              "      <th>type</th>\n",
              "      <th>posts</th>\n",
              "      <th>E-I</th>\n",
              "      <th>N-S</th>\n",
              "      <th>F-T</th>\n",
              "      <th>J-P</th>\n",
              "      <th>cleaned_post</th>\n",
              "      <th>words_count</th>\n",
              "      <th>char_count</th>\n",
              "      <th>bigrams</th>\n",
              "      <th>trigrams</th>\n",
              "    </tr>\n",
              "  </thead>\n",
              "  <tbody>\n",
              "    <tr>\n",
              "      <th>0</th>\n",
              "      <td>ISFJ</td>\n",
              "      <td>Everything you said here is spot on.|||Ti = 62...</td>\n",
              "      <td>I</td>\n",
              "      <td>S</td>\n",
              "      <td>F</td>\n",
              "      <td>J</td>\n",
              "      <td>everything you said here spot mmmmmmmm ekac no...</td>\n",
              "      <td>610</td>\n",
              "      <td>3600</td>\n",
              "      <td>[(everything, said), (said, spot), (spot, mmmm...</td>\n",
              "      <td>[(everything, said, spot), (said, spot, mmmmmm...</td>\n",
              "    </tr>\n",
              "    <tr>\n",
              "      <th>1</th>\n",
              "      <td>ESFP</td>\n",
              "      <td>That's okay, everybody has their preferences. ...</td>\n",
              "      <td>E</td>\n",
              "      <td>S</td>\n",
              "      <td>F</td>\n",
              "      <td>P</td>\n",
              "      <td>that okay everybody has their preferences also...</td>\n",
              "      <td>760</td>\n",
              "      <td>4598</td>\n",
              "      <td>[(okay, everybody), (everybody, preferences), ...</td>\n",
              "      <td>[(okay, everybody, preferences), (everybody, p...</td>\n",
              "    </tr>\n",
              "    <tr>\n",
              "      <th>2</th>\n",
              "      <td>ENFJ</td>\n",
              "      <td>I laughed so hard at the post, and especially ...</td>\n",
              "      <td>E</td>\n",
              "      <td>N</td>\n",
              "      <td>F</td>\n",
              "      <td>J</td>\n",
              "      <td>laughed hard the post and especially this line...</td>\n",
              "      <td>797</td>\n",
              "      <td>4644</td>\n",
              "      <td>[(laughed, hard), (hard, post), (post, especia...</td>\n",
              "      <td>[(laughed, hard, post), (hard, post, especiall...</td>\n",
              "    </tr>\n",
              "    <tr>\n",
              "      <th>3</th>\n",
              "      <td>ISFP</td>\n",
              "      <td>My best friend and bass player in my band is I...</td>\n",
              "      <td>I</td>\n",
              "      <td>S</td>\n",
              "      <td>F</td>\n",
              "      <td>P</td>\n",
              "      <td>best friend and bass player band intp fun most...</td>\n",
              "      <td>820</td>\n",
              "      <td>5047</td>\n",
              "      <td>[(best, friend), (friend, bass), (bass, player...</td>\n",
              "      <td>[(best, friend, bass), (friend, bass, player),...</td>\n",
              "    </tr>\n",
              "    <tr>\n",
              "      <th>4</th>\n",
              "      <td>ESFJ</td>\n",
              "      <td>Birds of prey always look angry. It's the... b...</td>\n",
              "      <td>E</td>\n",
              "      <td>S</td>\n",
              "      <td>F</td>\n",
              "      <td>J</td>\n",
              "      <td>birds prey always look angry the bits that wou...</td>\n",
              "      <td>813</td>\n",
              "      <td>4879</td>\n",
              "      <td>[(birds, prey), (prey, always), (always, look)...</td>\n",
              "      <td>[(birds, prey, always), (prey, always, look), ...</td>\n",
              "    </tr>\n",
              "  </tbody>\n",
              "</table>\n",
              "</div>\n",
              "      <button class=\"colab-df-convert\" onclick=\"convertToInteractive('df-7098ed11-f805-459f-b1ee-7e88ee27b4a0')\"\n",
              "              title=\"Convert this dataframe to an interactive table.\"\n",
              "              style=\"display:none;\">\n",
              "        \n",
              "  <svg xmlns=\"http://www.w3.org/2000/svg\" height=\"24px\"viewBox=\"0 0 24 24\"\n",
              "       width=\"24px\">\n",
              "    <path d=\"M0 0h24v24H0V0z\" fill=\"none\"/>\n",
              "    <path d=\"M18.56 5.44l.94 2.06.94-2.06 2.06-.94-2.06-.94-.94-2.06-.94 2.06-2.06.94zm-11 1L8.5 8.5l.94-2.06 2.06-.94-2.06-.94L8.5 2.5l-.94 2.06-2.06.94zm10 10l.94 2.06.94-2.06 2.06-.94-2.06-.94-.94-2.06-.94 2.06-2.06.94z\"/><path d=\"M17.41 7.96l-1.37-1.37c-.4-.4-.92-.59-1.43-.59-.52 0-1.04.2-1.43.59L10.3 9.45l-7.72 7.72c-.78.78-.78 2.05 0 2.83L4 21.41c.39.39.9.59 1.41.59.51 0 1.02-.2 1.41-.59l7.78-7.78 2.81-2.81c.8-.78.8-2.07 0-2.86zM5.41 20L4 18.59l7.72-7.72 1.47 1.35L5.41 20z\"/>\n",
              "  </svg>\n",
              "      </button>\n",
              "      \n",
              "  <style>\n",
              "    .colab-df-container {\n",
              "      display:flex;\n",
              "      flex-wrap:wrap;\n",
              "      gap: 12px;\n",
              "    }\n",
              "\n",
              "    .colab-df-convert {\n",
              "      background-color: #E8F0FE;\n",
              "      border: none;\n",
              "      border-radius: 50%;\n",
              "      cursor: pointer;\n",
              "      display: none;\n",
              "      fill: #1967D2;\n",
              "      height: 32px;\n",
              "      padding: 0 0 0 0;\n",
              "      width: 32px;\n",
              "    }\n",
              "\n",
              "    .colab-df-convert:hover {\n",
              "      background-color: #E2EBFA;\n",
              "      box-shadow: 0px 1px 2px rgba(60, 64, 67, 0.3), 0px 1px 3px 1px rgba(60, 64, 67, 0.15);\n",
              "      fill: #174EA6;\n",
              "    }\n",
              "\n",
              "    [theme=dark] .colab-df-convert {\n",
              "      background-color: #3B4455;\n",
              "      fill: #D2E3FC;\n",
              "    }\n",
              "\n",
              "    [theme=dark] .colab-df-convert:hover {\n",
              "      background-color: #434B5C;\n",
              "      box-shadow: 0px 1px 3px 1px rgba(0, 0, 0, 0.15);\n",
              "      filter: drop-shadow(0px 1px 2px rgba(0, 0, 0, 0.3));\n",
              "      fill: #FFFFFF;\n",
              "    }\n",
              "  </style>\n",
              "\n",
              "      <script>\n",
              "        const buttonEl =\n",
              "          document.querySelector('#df-7098ed11-f805-459f-b1ee-7e88ee27b4a0 button.colab-df-convert');\n",
              "        buttonEl.style.display =\n",
              "          google.colab.kernel.accessAllowed ? 'block' : 'none';\n",
              "\n",
              "        async function convertToInteractive(key) {\n",
              "          const element = document.querySelector('#df-7098ed11-f805-459f-b1ee-7e88ee27b4a0');\n",
              "          const dataTable =\n",
              "            await google.colab.kernel.invokeFunction('convertToInteractive',\n",
              "                                                     [key], {});\n",
              "          if (!dataTable) return;\n",
              "\n",
              "          const docLinkHtml = 'Like what you see? Visit the ' +\n",
              "            '<a target=\"_blank\" href=https://colab.research.google.com/notebooks/data_table.ipynb>data table notebook</a>'\n",
              "            + ' to learn more about interactive tables.';\n",
              "          element.innerHTML = '';\n",
              "          dataTable['output_type'] = 'display_data';\n",
              "          await google.colab.output.renderOutput(dataTable, element);\n",
              "          const docLink = document.createElement('div');\n",
              "          docLink.innerHTML = docLinkHtml;\n",
              "          element.appendChild(docLink);\n",
              "        }\n",
              "      </script>\n",
              "    </div>\n",
              "  </div>\n",
              "  "
            ]
          },
          "metadata": {},
          "execution_count": 25
        }
      ],
      "source": [
        "data = get_ngrams(data, n_gram=3, new_column=\"trigrams\")\n",
        "data.head()"
      ]
    },
    {
      "cell_type": "code",
      "execution_count": null,
      "metadata": {
        "id": "xQjwKH6aL0PC"
      },
      "outputs": [],
      "source": [
        "def most_common_ngram(data, column, top=20):\n",
        "    temp = []\n",
        "    for index, row in data.iterrows():\n",
        "        temp += row[column]\n",
        "    most_common = Counter(temp).most_common(top)\n",
        "    return most_common"
      ]
    },
    {
      "cell_type": "code",
      "execution_count": null,
      "metadata": {
        "id": "tx9-rhkPL0PC"
      },
      "outputs": [],
      "source": [
        "def plot_n_grams(ngrams, title, top=20):\n",
        "    ngram_df = pd.DataFrame(ngrams)\n",
        "    ngram_df.iloc[:, 0] = ngram_df.iloc[:,0].astype(str)\n",
        "    plt.figure(figsize=(7,7))\n",
        "    plt.barh(y=ngram_df.iloc[:top, 0], width=ngram_df.iloc[:top, 1])\n",
        "    plt.xlabel(\"Counts\", size=17)\n",
        "    plt.ylabel(\"Pairs\", size=17)\n",
        "    plt.title(title, size = 20)\n",
        "    plt.show() "
      ]
    },
    {
      "cell_type": "code",
      "execution_count": null,
      "metadata": {
        "colab": {
          "base_uri": "https://localhost:8080/"
        },
        "id": "yXgkzXHXL0PC",
        "outputId": "83b7c505-4287-440c-b481-0ca014a0b1ca"
      },
      "outputs": [
        {
          "output_type": "execute_result",
          "data": {
            "text/plain": [
              "[(('feel', 'like'), 16030),\n",
              " (('would', 'say'), 13264),\n",
              " (('would', 'like'), 10003),\n",
              " (('sounds', 'like'), 8485),\n",
              " (('pretty', 'much'), 7243),\n",
              " (('high', 'school'), 6880),\n",
              " (('even', 'though'), 5775),\n",
              " (('seems', 'like'), 5774),\n",
              " (('using', 'tapatalk'), 5520),\n",
              " (('best', 'friend'), 5472),\n",
              " (('get', 'along'), 5272),\n",
              " (('think', 'would'), 4683),\n",
              " (('really', 'like'), 4545),\n",
              " (('personality', 'type'), 4480),\n",
              " (('long', 'time'), 4472),\n",
              " (('years', 'ago'), 4178),\n",
              " (('sent', 'iphone'), 3734),\n",
              " (('someone', 'else'), 3734),\n",
              " (('one', 'thing'), 3572),\n",
              " (('makes', 'sense'), 3540)]"
            ]
          },
          "metadata": {},
          "execution_count": 28
        }
      ],
      "source": [
        "bigrams_most_common = most_common_ngram(data, \"bigrams\")\n",
        "bigrams_most_common"
      ]
    },
    {
      "cell_type": "code",
      "execution_count": null,
      "metadata": {
        "colab": {
          "base_uri": "https://localhost:8080/"
        },
        "id": "JJPeTzLcL0PD",
        "outputId": "623a8910-8f2b-45b4-c223-b83842661749"
      },
      "outputs": [
        {
          "output_type": "execute_result",
          "data": {
            "text/plain": [
              "[(('sent', 'iphone', 'using'), 3318),\n",
              " (('iphone', 'using', 'tapatalk'), 3173),\n",
              " (('happy', 'happy', 'happy'), 1224),\n",
              " (('sent', 'using', 'tapatalk'), 1137),\n",
              " (('one', 'best', 'friends'), 843),\n",
              " (('get', 'along', 'well'), 836),\n",
              " (('anything', 'may', 'affect'), 782),\n",
              " (('may', 'affect', 'way'), 780),\n",
              " (('affect', 'way', 'answer'), 766),\n",
              " (('way', 'answer', 'questions'), 701),\n",
              " (('answer', 'questions', 'example'), 673),\n",
              " (('questions', 'example', 'stressful'), 662),\n",
              " (('example', 'stressful', 'time'), 660),\n",
              " (('sometimes', 'feel', 'like'), 637),\n",
              " (('stressful', 'time', 'mental'), 605),\n",
              " (('time', 'mental', 'illness'), 593),\n",
              " (('mental', 'illness', 'medications'), 587),\n",
              " (('low', 'self', 'esteem'), 573),\n",
              " (('illness', 'medications', 'special'), 565),\n",
              " (('would', 'like', 'know'), 557)]"
            ]
          },
          "metadata": {},
          "execution_count": 29
        }
      ],
      "source": [
        "trigrams_most_common = most_common_ngram(data, \"trigrams\")\n",
        "trigrams_most_common"
      ]
    },
    {
      "cell_type": "markdown",
      "metadata": {
        "id": "Y6qutF9uL0PE"
      },
      "source": [
        "### preprocessing"
      ]
    },
    {
      "cell_type": "code",
      "execution_count": null,
      "metadata": {
        "id": "LFC4YH5RL0PF"
      },
      "outputs": [],
      "source": [
        "def remove_stopwords(data, stopword_list, column=\"cleaned_post\"):\n",
        "    data[column] = data[column].apply(word_tokenize)\n",
        "    data[column] = data[column].apply(lambda x: [word for word in x if not word in stopword_list])\n",
        "    return data"
      ]
    },
    {
      "cell_type": "code",
      "execution_count": null,
      "metadata": {
        "id": "-Vh4y973L0PF"
      },
      "outputs": [],
      "source": [
        "def apply_lemmatization(text):\n",
        "    lemmatizer = WordNetLemmatizer()\n",
        "    return [lemmatizer.lemmatize(w) for w in text]"
      ]
    },
    {
      "cell_type": "code",
      "execution_count": null,
      "metadata": {
        "id": "Lia2hGpcL0PG"
      },
      "outputs": [],
      "source": [
        "def lemmatize(data, stopword_list, column=\"cleaned_post\"):\n",
        "    data[column] = data[column].apply(apply_lemmatization)\n",
        "    data[column] = data[column].apply(\" \".join)\n",
        "    return data"
      ]
    },
    {
      "cell_type": "code",
      "execution_count": null,
      "metadata": {
        "colab": {
          "base_uri": "https://localhost:8080/"
        },
        "id": "ZN9xCQQBL0PG",
        "outputId": "f041026b-6f1d-48f9-fc91-c15e08995162"
      },
      "outputs": [
        {
          "output_type": "stream",
          "name": "stderr",
          "text": [
            "[nltk_data] Downloading package punkt to /root/nltk_data...\n",
            "[nltk_data]   Unzipping tokenizers/punkt.zip.\n"
          ]
        }
      ],
      "source": [
        "nltk.download('punkt')\n",
        "data = remove_stopwords(data, stopword_list)"
      ]
    },
    {
      "cell_type": "code",
      "execution_count": null,
      "metadata": {
        "colab": {
          "base_uri": "https://localhost:8080/"
        },
        "id": "xL5g7nyBL0PG",
        "outputId": "ba33c9d2-a3c4-4d26-f340-247c23eb860d"
      },
      "outputs": [
        {
          "output_type": "stream",
          "name": "stderr",
          "text": [
            "[nltk_data] Downloading package wordnet to /root/nltk_data...\n"
          ]
        }
      ],
      "source": [
        "nltk.download('wordnet')\n",
        "data = lemmatize(data, stopword_list)"
      ]
    },
    {
      "cell_type": "code",
      "execution_count": null,
      "metadata": {
        "colab": {
          "base_uri": "https://localhost:8080/",
          "height": 354
        },
        "id": "9lIFSip7L0PH",
        "outputId": "546cae6c-5d9e-44f6-d184-208a227ba505"
      },
      "outputs": [
        {
          "output_type": "execute_result",
          "data": {
            "text/plain": [
              "   type                                              posts E-I N-S F-T J-P  \\\n",
              "0  ISFJ  Everything you said here is spot on.|||Ti = 62...   I   S   F   J   \n",
              "1  ESFP  That's okay, everybody has their preferences. ...   E   S   F   P   \n",
              "2  ENFJ  I laughed so hard at the post, and especially ...   E   N   F   J   \n",
              "3  ISFP  My best friend and bass player in my band is I...   I   S   F   P   \n",
              "4  ESFJ  Birds of prey always look angry. It's the... b...   E   S   F   J   \n",
              "\n",
              "                                        cleaned_post  words_count  char_count  \\\n",
              "0  everything said spot mmmmmmmm ekac sure someon...          610        3600   \n",
              "1  okay everybody preference also like korra much...          760        4598   \n",
              "2  laughed hard post especially line true thanks ...          797        4644   \n",
              "3  best friend bass player band intp fun time get...          820        5047   \n",
              "4  bird prey always look angry bit would eyebrow ...          813        4879   \n",
              "\n",
              "                                             bigrams  \\\n",
              "0  [(everything, said), (said, spot), (spot, mmmm...   \n",
              "1  [(okay, everybody), (everybody, preferences), ...   \n",
              "2  [(laughed, hard), (hard, post), (post, especia...   \n",
              "3  [(best, friend), (friend, bass), (bass, player...   \n",
              "4  [(birds, prey), (prey, always), (always, look)...   \n",
              "\n",
              "                                            trigrams  \n",
              "0  [(everything, said, spot), (said, spot, mmmmmm...  \n",
              "1  [(okay, everybody, preferences), (everybody, p...  \n",
              "2  [(laughed, hard, post), (hard, post, especiall...  \n",
              "3  [(best, friend, bass), (friend, bass, player),...  \n",
              "4  [(birds, prey, always), (prey, always, look), ...  "
            ],
            "text/html": [
              "\n",
              "  <div id=\"df-c9a7b84d-44df-4e81-a6ea-37341bc4f9fb\">\n",
              "    <div class=\"colab-df-container\">\n",
              "      <div>\n",
              "<style scoped>\n",
              "    .dataframe tbody tr th:only-of-type {\n",
              "        vertical-align: middle;\n",
              "    }\n",
              "\n",
              "    .dataframe tbody tr th {\n",
              "        vertical-align: top;\n",
              "    }\n",
              "\n",
              "    .dataframe thead th {\n",
              "        text-align: right;\n",
              "    }\n",
              "</style>\n",
              "<table border=\"1\" class=\"dataframe\">\n",
              "  <thead>\n",
              "    <tr style=\"text-align: right;\">\n",
              "      <th></th>\n",
              "      <th>type</th>\n",
              "      <th>posts</th>\n",
              "      <th>E-I</th>\n",
              "      <th>N-S</th>\n",
              "      <th>F-T</th>\n",
              "      <th>J-P</th>\n",
              "      <th>cleaned_post</th>\n",
              "      <th>words_count</th>\n",
              "      <th>char_count</th>\n",
              "      <th>bigrams</th>\n",
              "      <th>trigrams</th>\n",
              "    </tr>\n",
              "  </thead>\n",
              "  <tbody>\n",
              "    <tr>\n",
              "      <th>0</th>\n",
              "      <td>ISFJ</td>\n",
              "      <td>Everything you said here is spot on.|||Ti = 62...</td>\n",
              "      <td>I</td>\n",
              "      <td>S</td>\n",
              "      <td>F</td>\n",
              "      <td>J</td>\n",
              "      <td>everything said spot mmmmmmmm ekac sure someon...</td>\n",
              "      <td>610</td>\n",
              "      <td>3600</td>\n",
              "      <td>[(everything, said), (said, spot), (spot, mmmm...</td>\n",
              "      <td>[(everything, said, spot), (said, spot, mmmmmm...</td>\n",
              "    </tr>\n",
              "    <tr>\n",
              "      <th>1</th>\n",
              "      <td>ESFP</td>\n",
              "      <td>That's okay, everybody has their preferences. ...</td>\n",
              "      <td>E</td>\n",
              "      <td>S</td>\n",
              "      <td>F</td>\n",
              "      <td>P</td>\n",
              "      <td>okay everybody preference also like korra much...</td>\n",
              "      <td>760</td>\n",
              "      <td>4598</td>\n",
              "      <td>[(okay, everybody), (everybody, preferences), ...</td>\n",
              "      <td>[(okay, everybody, preferences), (everybody, p...</td>\n",
              "    </tr>\n",
              "    <tr>\n",
              "      <th>2</th>\n",
              "      <td>ENFJ</td>\n",
              "      <td>I laughed so hard at the post, and especially ...</td>\n",
              "      <td>E</td>\n",
              "      <td>N</td>\n",
              "      <td>F</td>\n",
              "      <td>J</td>\n",
              "      <td>laughed hard post especially line true thanks ...</td>\n",
              "      <td>797</td>\n",
              "      <td>4644</td>\n",
              "      <td>[(laughed, hard), (hard, post), (post, especia...</td>\n",
              "      <td>[(laughed, hard, post), (hard, post, especiall...</td>\n",
              "    </tr>\n",
              "    <tr>\n",
              "      <th>3</th>\n",
              "      <td>ISFP</td>\n",
              "      <td>My best friend and bass player in my band is I...</td>\n",
              "      <td>I</td>\n",
              "      <td>S</td>\n",
              "      <td>F</td>\n",
              "      <td>P</td>\n",
              "      <td>best friend bass player band intp fun time get...</td>\n",
              "      <td>820</td>\n",
              "      <td>5047</td>\n",
              "      <td>[(best, friend), (friend, bass), (bass, player...</td>\n",
              "      <td>[(best, friend, bass), (friend, bass, player),...</td>\n",
              "    </tr>\n",
              "    <tr>\n",
              "      <th>4</th>\n",
              "      <td>ESFJ</td>\n",
              "      <td>Birds of prey always look angry. It's the... b...</td>\n",
              "      <td>E</td>\n",
              "      <td>S</td>\n",
              "      <td>F</td>\n",
              "      <td>J</td>\n",
              "      <td>bird prey always look angry bit would eyebrow ...</td>\n",
              "      <td>813</td>\n",
              "      <td>4879</td>\n",
              "      <td>[(birds, prey), (prey, always), (always, look)...</td>\n",
              "      <td>[(birds, prey, always), (prey, always, look), ...</td>\n",
              "    </tr>\n",
              "  </tbody>\n",
              "</table>\n",
              "</div>\n",
              "      <button class=\"colab-df-convert\" onclick=\"convertToInteractive('df-c9a7b84d-44df-4e81-a6ea-37341bc4f9fb')\"\n",
              "              title=\"Convert this dataframe to an interactive table.\"\n",
              "              style=\"display:none;\">\n",
              "        \n",
              "  <svg xmlns=\"http://www.w3.org/2000/svg\" height=\"24px\"viewBox=\"0 0 24 24\"\n",
              "       width=\"24px\">\n",
              "    <path d=\"M0 0h24v24H0V0z\" fill=\"none\"/>\n",
              "    <path d=\"M18.56 5.44l.94 2.06.94-2.06 2.06-.94-2.06-.94-.94-2.06-.94 2.06-2.06.94zm-11 1L8.5 8.5l.94-2.06 2.06-.94-2.06-.94L8.5 2.5l-.94 2.06-2.06.94zm10 10l.94 2.06.94-2.06 2.06-.94-2.06-.94-.94-2.06-.94 2.06-2.06.94z\"/><path d=\"M17.41 7.96l-1.37-1.37c-.4-.4-.92-.59-1.43-.59-.52 0-1.04.2-1.43.59L10.3 9.45l-7.72 7.72c-.78.78-.78 2.05 0 2.83L4 21.41c.39.39.9.59 1.41.59.51 0 1.02-.2 1.41-.59l7.78-7.78 2.81-2.81c.8-.78.8-2.07 0-2.86zM5.41 20L4 18.59l7.72-7.72 1.47 1.35L5.41 20z\"/>\n",
              "  </svg>\n",
              "      </button>\n",
              "      \n",
              "  <style>\n",
              "    .colab-df-container {\n",
              "      display:flex;\n",
              "      flex-wrap:wrap;\n",
              "      gap: 12px;\n",
              "    }\n",
              "\n",
              "    .colab-df-convert {\n",
              "      background-color: #E8F0FE;\n",
              "      border: none;\n",
              "      border-radius: 50%;\n",
              "      cursor: pointer;\n",
              "      display: none;\n",
              "      fill: #1967D2;\n",
              "      height: 32px;\n",
              "      padding: 0 0 0 0;\n",
              "      width: 32px;\n",
              "    }\n",
              "\n",
              "    .colab-df-convert:hover {\n",
              "      background-color: #E2EBFA;\n",
              "      box-shadow: 0px 1px 2px rgba(60, 64, 67, 0.3), 0px 1px 3px 1px rgba(60, 64, 67, 0.15);\n",
              "      fill: #174EA6;\n",
              "    }\n",
              "\n",
              "    [theme=dark] .colab-df-convert {\n",
              "      background-color: #3B4455;\n",
              "      fill: #D2E3FC;\n",
              "    }\n",
              "\n",
              "    [theme=dark] .colab-df-convert:hover {\n",
              "      background-color: #434B5C;\n",
              "      box-shadow: 0px 1px 3px 1px rgba(0, 0, 0, 0.15);\n",
              "      filter: drop-shadow(0px 1px 2px rgba(0, 0, 0, 0.3));\n",
              "      fill: #FFFFFF;\n",
              "    }\n",
              "  </style>\n",
              "\n",
              "      <script>\n",
              "        const buttonEl =\n",
              "          document.querySelector('#df-c9a7b84d-44df-4e81-a6ea-37341bc4f9fb button.colab-df-convert');\n",
              "        buttonEl.style.display =\n",
              "          google.colab.kernel.accessAllowed ? 'block' : 'none';\n",
              "\n",
              "        async function convertToInteractive(key) {\n",
              "          const element = document.querySelector('#df-c9a7b84d-44df-4e81-a6ea-37341bc4f9fb');\n",
              "          const dataTable =\n",
              "            await google.colab.kernel.invokeFunction('convertToInteractive',\n",
              "                                                     [key], {});\n",
              "          if (!dataTable) return;\n",
              "\n",
              "          const docLinkHtml = 'Like what you see? Visit the ' +\n",
              "            '<a target=\"_blank\" href=https://colab.research.google.com/notebooks/data_table.ipynb>data table notebook</a>'\n",
              "            + ' to learn more about interactive tables.';\n",
              "          element.innerHTML = '';\n",
              "          dataTable['output_type'] = 'display_data';\n",
              "          await google.colab.output.renderOutput(dataTable, element);\n",
              "          const docLink = document.createElement('div');\n",
              "          docLink.innerHTML = docLinkHtml;\n",
              "          element.appendChild(docLink);\n",
              "        }\n",
              "      </script>\n",
              "    </div>\n",
              "  </div>\n",
              "  "
            ]
          },
          "metadata": {},
          "execution_count": 35
        }
      ],
      "source": [
        "data.head()"
      ]
    },
    {
      "cell_type": "code",
      "execution_count": null,
      "metadata": {
        "colab": {
          "base_uri": "https://localhost:8080/",
          "height": 206
        },
        "id": "NwDTgHAkL0PI",
        "outputId": "df70f634-2427-43c2-ba4e-f9b32e43f3b3"
      },
      "outputs": [
        {
          "output_type": "execute_result",
          "data": {
            "text/plain": [
              "                                        cleaned_post E-I N-S F-T J-P\n",
              "0  everything said spot mmmmmmmm ekac sure someon...   I   S   F   J\n",
              "1  okay everybody preference also like korra much...   E   S   F   P\n",
              "2  laughed hard post especially line true thanks ...   E   N   F   J\n",
              "3  best friend bass player band intp fun time get...   I   S   F   P\n",
              "4  bird prey always look angry bit would eyebrow ...   E   S   F   J"
            ],
            "text/html": [
              "\n",
              "  <div id=\"df-11f413c8-d27f-4431-950a-fa3ebb74f437\">\n",
              "    <div class=\"colab-df-container\">\n",
              "      <div>\n",
              "<style scoped>\n",
              "    .dataframe tbody tr th:only-of-type {\n",
              "        vertical-align: middle;\n",
              "    }\n",
              "\n",
              "    .dataframe tbody tr th {\n",
              "        vertical-align: top;\n",
              "    }\n",
              "\n",
              "    .dataframe thead th {\n",
              "        text-align: right;\n",
              "    }\n",
              "</style>\n",
              "<table border=\"1\" class=\"dataframe\">\n",
              "  <thead>\n",
              "    <tr style=\"text-align: right;\">\n",
              "      <th></th>\n",
              "      <th>cleaned_post</th>\n",
              "      <th>E-I</th>\n",
              "      <th>N-S</th>\n",
              "      <th>F-T</th>\n",
              "      <th>J-P</th>\n",
              "    </tr>\n",
              "  </thead>\n",
              "  <tbody>\n",
              "    <tr>\n",
              "      <th>0</th>\n",
              "      <td>everything said spot mmmmmmmm ekac sure someon...</td>\n",
              "      <td>I</td>\n",
              "      <td>S</td>\n",
              "      <td>F</td>\n",
              "      <td>J</td>\n",
              "    </tr>\n",
              "    <tr>\n",
              "      <th>1</th>\n",
              "      <td>okay everybody preference also like korra much...</td>\n",
              "      <td>E</td>\n",
              "      <td>S</td>\n",
              "      <td>F</td>\n",
              "      <td>P</td>\n",
              "    </tr>\n",
              "    <tr>\n",
              "      <th>2</th>\n",
              "      <td>laughed hard post especially line true thanks ...</td>\n",
              "      <td>E</td>\n",
              "      <td>N</td>\n",
              "      <td>F</td>\n",
              "      <td>J</td>\n",
              "    </tr>\n",
              "    <tr>\n",
              "      <th>3</th>\n",
              "      <td>best friend bass player band intp fun time get...</td>\n",
              "      <td>I</td>\n",
              "      <td>S</td>\n",
              "      <td>F</td>\n",
              "      <td>P</td>\n",
              "    </tr>\n",
              "    <tr>\n",
              "      <th>4</th>\n",
              "      <td>bird prey always look angry bit would eyebrow ...</td>\n",
              "      <td>E</td>\n",
              "      <td>S</td>\n",
              "      <td>F</td>\n",
              "      <td>J</td>\n",
              "    </tr>\n",
              "  </tbody>\n",
              "</table>\n",
              "</div>\n",
              "      <button class=\"colab-df-convert\" onclick=\"convertToInteractive('df-11f413c8-d27f-4431-950a-fa3ebb74f437')\"\n",
              "              title=\"Convert this dataframe to an interactive table.\"\n",
              "              style=\"display:none;\">\n",
              "        \n",
              "  <svg xmlns=\"http://www.w3.org/2000/svg\" height=\"24px\"viewBox=\"0 0 24 24\"\n",
              "       width=\"24px\">\n",
              "    <path d=\"M0 0h24v24H0V0z\" fill=\"none\"/>\n",
              "    <path d=\"M18.56 5.44l.94 2.06.94-2.06 2.06-.94-2.06-.94-.94-2.06-.94 2.06-2.06.94zm-11 1L8.5 8.5l.94-2.06 2.06-.94-2.06-.94L8.5 2.5l-.94 2.06-2.06.94zm10 10l.94 2.06.94-2.06 2.06-.94-2.06-.94-.94-2.06-.94 2.06-2.06.94z\"/><path d=\"M17.41 7.96l-1.37-1.37c-.4-.4-.92-.59-1.43-.59-.52 0-1.04.2-1.43.59L10.3 9.45l-7.72 7.72c-.78.78-.78 2.05 0 2.83L4 21.41c.39.39.9.59 1.41.59.51 0 1.02-.2 1.41-.59l7.78-7.78 2.81-2.81c.8-.78.8-2.07 0-2.86zM5.41 20L4 18.59l7.72-7.72 1.47 1.35L5.41 20z\"/>\n",
              "  </svg>\n",
              "      </button>\n",
              "      \n",
              "  <style>\n",
              "    .colab-df-container {\n",
              "      display:flex;\n",
              "      flex-wrap:wrap;\n",
              "      gap: 12px;\n",
              "    }\n",
              "\n",
              "    .colab-df-convert {\n",
              "      background-color: #E8F0FE;\n",
              "      border: none;\n",
              "      border-radius: 50%;\n",
              "      cursor: pointer;\n",
              "      display: none;\n",
              "      fill: #1967D2;\n",
              "      height: 32px;\n",
              "      padding: 0 0 0 0;\n",
              "      width: 32px;\n",
              "    }\n",
              "\n",
              "    .colab-df-convert:hover {\n",
              "      background-color: #E2EBFA;\n",
              "      box-shadow: 0px 1px 2px rgba(60, 64, 67, 0.3), 0px 1px 3px 1px rgba(60, 64, 67, 0.15);\n",
              "      fill: #174EA6;\n",
              "    }\n",
              "\n",
              "    [theme=dark] .colab-df-convert {\n",
              "      background-color: #3B4455;\n",
              "      fill: #D2E3FC;\n",
              "    }\n",
              "\n",
              "    [theme=dark] .colab-df-convert:hover {\n",
              "      background-color: #434B5C;\n",
              "      box-shadow: 0px 1px 3px 1px rgba(0, 0, 0, 0.15);\n",
              "      filter: drop-shadow(0px 1px 2px rgba(0, 0, 0, 0.3));\n",
              "      fill: #FFFFFF;\n",
              "    }\n",
              "  </style>\n",
              "\n",
              "      <script>\n",
              "        const buttonEl =\n",
              "          document.querySelector('#df-11f413c8-d27f-4431-950a-fa3ebb74f437 button.colab-df-convert');\n",
              "        buttonEl.style.display =\n",
              "          google.colab.kernel.accessAllowed ? 'block' : 'none';\n",
              "\n",
              "        async function convertToInteractive(key) {\n",
              "          const element = document.querySelector('#df-11f413c8-d27f-4431-950a-fa3ebb74f437');\n",
              "          const dataTable =\n",
              "            await google.colab.kernel.invokeFunction('convertToInteractive',\n",
              "                                                     [key], {});\n",
              "          if (!dataTable) return;\n",
              "\n",
              "          const docLinkHtml = 'Like what you see? Visit the ' +\n",
              "            '<a target=\"_blank\" href=https://colab.research.google.com/notebooks/data_table.ipynb>data table notebook</a>'\n",
              "            + ' to learn more about interactive tables.';\n",
              "          element.innerHTML = '';\n",
              "          dataTable['output_type'] = 'display_data';\n",
              "          await google.colab.output.renderOutput(dataTable, element);\n",
              "          const docLink = document.createElement('div');\n",
              "          docLink.innerHTML = docLinkHtml;\n",
              "          element.appendChild(docLink);\n",
              "        }\n",
              "      </script>\n",
              "    </div>\n",
              "  </div>\n",
              "  "
            ]
          },
          "metadata": {},
          "execution_count": 36
        }
      ],
      "source": [
        "training_data = data[[\"cleaned_post\", \"E-I\", \"N-S\", \"F-T\", \"J-P\"]].copy()\n",
        "training_data.head(5)"
      ]
    },
    {
      "cell_type": "code",
      "execution_count": null,
      "metadata": {
        "id": "v4GpYmGlL0PI"
      },
      "outputs": [],
      "source": [
        "def make_dummies(data, columns=[\"E-I\", \"N-S\", \"F-T\", \"J-P\"]):\n",
        "    for column in columns:\n",
        "        temp_dummy = pd.get_dummies(data[column], prefix=\"type\")\n",
        "        data = data.join(temp_dummy)\n",
        "    return data"
      ]
    },
    {
      "cell_type": "code",
      "execution_count": null,
      "metadata": {
        "colab": {
          "base_uri": "https://localhost:8080/",
          "height": 206
        },
        "id": "cY1ivK6jL0PJ",
        "outputId": "a47bcd08-b090-4668-ab50-b3c134964a1e"
      },
      "outputs": [
        {
          "output_type": "execute_result",
          "data": {
            "text/plain": [
              "                                        cleaned_post E-I N-S F-T J-P  type_E  \\\n",
              "0  everything said spot mmmmmmmm ekac sure someon...   I   S   F   J       0   \n",
              "1  okay everybody preference also like korra much...   E   S   F   P       1   \n",
              "2  laughed hard post especially line true thanks ...   E   N   F   J       1   \n",
              "3  best friend bass player band intp fun time get...   I   S   F   P       0   \n",
              "4  bird prey always look angry bit would eyebrow ...   E   S   F   J       1   \n",
              "\n",
              "   type_I  type_N  type_S  type_F  type_T  type_J  type_P  \n",
              "0       1       0       1       1       0       1       0  \n",
              "1       0       0       1       1       0       0       1  \n",
              "2       0       1       0       1       0       1       0  \n",
              "3       1       0       1       1       0       0       1  \n",
              "4       0       0       1       1       0       1       0  "
            ],
            "text/html": [
              "\n",
              "  <div id=\"df-1bf5d752-855e-404e-ba83-9679038c52e1\">\n",
              "    <div class=\"colab-df-container\">\n",
              "      <div>\n",
              "<style scoped>\n",
              "    .dataframe tbody tr th:only-of-type {\n",
              "        vertical-align: middle;\n",
              "    }\n",
              "\n",
              "    .dataframe tbody tr th {\n",
              "        vertical-align: top;\n",
              "    }\n",
              "\n",
              "    .dataframe thead th {\n",
              "        text-align: right;\n",
              "    }\n",
              "</style>\n",
              "<table border=\"1\" class=\"dataframe\">\n",
              "  <thead>\n",
              "    <tr style=\"text-align: right;\">\n",
              "      <th></th>\n",
              "      <th>cleaned_post</th>\n",
              "      <th>E-I</th>\n",
              "      <th>N-S</th>\n",
              "      <th>F-T</th>\n",
              "      <th>J-P</th>\n",
              "      <th>type_E</th>\n",
              "      <th>type_I</th>\n",
              "      <th>type_N</th>\n",
              "      <th>type_S</th>\n",
              "      <th>type_F</th>\n",
              "      <th>type_T</th>\n",
              "      <th>type_J</th>\n",
              "      <th>type_P</th>\n",
              "    </tr>\n",
              "  </thead>\n",
              "  <tbody>\n",
              "    <tr>\n",
              "      <th>0</th>\n",
              "      <td>everything said spot mmmmmmmm ekac sure someon...</td>\n",
              "      <td>I</td>\n",
              "      <td>S</td>\n",
              "      <td>F</td>\n",
              "      <td>J</td>\n",
              "      <td>0</td>\n",
              "      <td>1</td>\n",
              "      <td>0</td>\n",
              "      <td>1</td>\n",
              "      <td>1</td>\n",
              "      <td>0</td>\n",
              "      <td>1</td>\n",
              "      <td>0</td>\n",
              "    </tr>\n",
              "    <tr>\n",
              "      <th>1</th>\n",
              "      <td>okay everybody preference also like korra much...</td>\n",
              "      <td>E</td>\n",
              "      <td>S</td>\n",
              "      <td>F</td>\n",
              "      <td>P</td>\n",
              "      <td>1</td>\n",
              "      <td>0</td>\n",
              "      <td>0</td>\n",
              "      <td>1</td>\n",
              "      <td>1</td>\n",
              "      <td>0</td>\n",
              "      <td>0</td>\n",
              "      <td>1</td>\n",
              "    </tr>\n",
              "    <tr>\n",
              "      <th>2</th>\n",
              "      <td>laughed hard post especially line true thanks ...</td>\n",
              "      <td>E</td>\n",
              "      <td>N</td>\n",
              "      <td>F</td>\n",
              "      <td>J</td>\n",
              "      <td>1</td>\n",
              "      <td>0</td>\n",
              "      <td>1</td>\n",
              "      <td>0</td>\n",
              "      <td>1</td>\n",
              "      <td>0</td>\n",
              "      <td>1</td>\n",
              "      <td>0</td>\n",
              "    </tr>\n",
              "    <tr>\n",
              "      <th>3</th>\n",
              "      <td>best friend bass player band intp fun time get...</td>\n",
              "      <td>I</td>\n",
              "      <td>S</td>\n",
              "      <td>F</td>\n",
              "      <td>P</td>\n",
              "      <td>0</td>\n",
              "      <td>1</td>\n",
              "      <td>0</td>\n",
              "      <td>1</td>\n",
              "      <td>1</td>\n",
              "      <td>0</td>\n",
              "      <td>0</td>\n",
              "      <td>1</td>\n",
              "    </tr>\n",
              "    <tr>\n",
              "      <th>4</th>\n",
              "      <td>bird prey always look angry bit would eyebrow ...</td>\n",
              "      <td>E</td>\n",
              "      <td>S</td>\n",
              "      <td>F</td>\n",
              "      <td>J</td>\n",
              "      <td>1</td>\n",
              "      <td>0</td>\n",
              "      <td>0</td>\n",
              "      <td>1</td>\n",
              "      <td>1</td>\n",
              "      <td>0</td>\n",
              "      <td>1</td>\n",
              "      <td>0</td>\n",
              "    </tr>\n",
              "  </tbody>\n",
              "</table>\n",
              "</div>\n",
              "      <button class=\"colab-df-convert\" onclick=\"convertToInteractive('df-1bf5d752-855e-404e-ba83-9679038c52e1')\"\n",
              "              title=\"Convert this dataframe to an interactive table.\"\n",
              "              style=\"display:none;\">\n",
              "        \n",
              "  <svg xmlns=\"http://www.w3.org/2000/svg\" height=\"24px\"viewBox=\"0 0 24 24\"\n",
              "       width=\"24px\">\n",
              "    <path d=\"M0 0h24v24H0V0z\" fill=\"none\"/>\n",
              "    <path d=\"M18.56 5.44l.94 2.06.94-2.06 2.06-.94-2.06-.94-.94-2.06-.94 2.06-2.06.94zm-11 1L8.5 8.5l.94-2.06 2.06-.94-2.06-.94L8.5 2.5l-.94 2.06-2.06.94zm10 10l.94 2.06.94-2.06 2.06-.94-2.06-.94-.94-2.06-.94 2.06-2.06.94z\"/><path d=\"M17.41 7.96l-1.37-1.37c-.4-.4-.92-.59-1.43-.59-.52 0-1.04.2-1.43.59L10.3 9.45l-7.72 7.72c-.78.78-.78 2.05 0 2.83L4 21.41c.39.39.9.59 1.41.59.51 0 1.02-.2 1.41-.59l7.78-7.78 2.81-2.81c.8-.78.8-2.07 0-2.86zM5.41 20L4 18.59l7.72-7.72 1.47 1.35L5.41 20z\"/>\n",
              "  </svg>\n",
              "      </button>\n",
              "      \n",
              "  <style>\n",
              "    .colab-df-container {\n",
              "      display:flex;\n",
              "      flex-wrap:wrap;\n",
              "      gap: 12px;\n",
              "    }\n",
              "\n",
              "    .colab-df-convert {\n",
              "      background-color: #E8F0FE;\n",
              "      border: none;\n",
              "      border-radius: 50%;\n",
              "      cursor: pointer;\n",
              "      display: none;\n",
              "      fill: #1967D2;\n",
              "      height: 32px;\n",
              "      padding: 0 0 0 0;\n",
              "      width: 32px;\n",
              "    }\n",
              "\n",
              "    .colab-df-convert:hover {\n",
              "      background-color: #E2EBFA;\n",
              "      box-shadow: 0px 1px 2px rgba(60, 64, 67, 0.3), 0px 1px 3px 1px rgba(60, 64, 67, 0.15);\n",
              "      fill: #174EA6;\n",
              "    }\n",
              "\n",
              "    [theme=dark] .colab-df-convert {\n",
              "      background-color: #3B4455;\n",
              "      fill: #D2E3FC;\n",
              "    }\n",
              "\n",
              "    [theme=dark] .colab-df-convert:hover {\n",
              "      background-color: #434B5C;\n",
              "      box-shadow: 0px 1px 3px 1px rgba(0, 0, 0, 0.15);\n",
              "      filter: drop-shadow(0px 1px 2px rgba(0, 0, 0, 0.3));\n",
              "      fill: #FFFFFF;\n",
              "    }\n",
              "  </style>\n",
              "\n",
              "      <script>\n",
              "        const buttonEl =\n",
              "          document.querySelector('#df-1bf5d752-855e-404e-ba83-9679038c52e1 button.colab-df-convert');\n",
              "        buttonEl.style.display =\n",
              "          google.colab.kernel.accessAllowed ? 'block' : 'none';\n",
              "\n",
              "        async function convertToInteractive(key) {\n",
              "          const element = document.querySelector('#df-1bf5d752-855e-404e-ba83-9679038c52e1');\n",
              "          const dataTable =\n",
              "            await google.colab.kernel.invokeFunction('convertToInteractive',\n",
              "                                                     [key], {});\n",
              "          if (!dataTable) return;\n",
              "\n",
              "          const docLinkHtml = 'Like what you see? Visit the ' +\n",
              "            '<a target=\"_blank\" href=https://colab.research.google.com/notebooks/data_table.ipynb>data table notebook</a>'\n",
              "            + ' to learn more about interactive tables.';\n",
              "          element.innerHTML = '';\n",
              "          dataTable['output_type'] = 'display_data';\n",
              "          await google.colab.output.renderOutput(dataTable, element);\n",
              "          const docLink = document.createElement('div');\n",
              "          docLink.innerHTML = docLinkHtml;\n",
              "          element.appendChild(docLink);\n",
              "        }\n",
              "      </script>\n",
              "    </div>\n",
              "  </div>\n",
              "  "
            ]
          },
          "metadata": {},
          "execution_count": 38
        }
      ],
      "source": [
        "training_data = make_dummies(training_data)\n",
        "training_data.head()"
      ]
    },
    {
      "cell_type": "markdown",
      "metadata": {
        "id": "xQJ6_gHBL0PJ"
      },
      "source": [
        "#### Handling Imbalanced Data"
      ]
    },
    {
      "cell_type": "code",
      "execution_count": null,
      "metadata": {
        "id": "84dVQ3trL0PJ"
      },
      "outputs": [],
      "source": [
        "X = training_data[[\"cleaned_post\"]]\n",
        "y = training_data.drop(columns=[\"cleaned_post\"])\n"
      ]
    },
    {
      "cell_type": "code",
      "execution_count": null,
      "metadata": {
        "colab": {
          "base_uri": "https://localhost:8080/"
        },
        "id": "BeW5HOwlb-jp",
        "outputId": "60dfdfd9-71b1-4b0b-8695-63931581cc60"
      },
      "outputs": [
        {
          "output_type": "stream",
          "name": "stdout",
          "text": [
            "                                            cleaned_post\n",
            "0      everything said spot mmmmmmmm ekac sure someon...\n",
            "1      okay everybody preference also like korra much...\n",
            "2      laughed hard post especially line true thanks ...\n",
            "3      best friend bass player band intp fun time get...\n",
            "4      bird prey always look angry bit would eyebrow ...\n",
            "...                                                  ...\n",
            "29307  think conversation back similar believe conclu...\n",
            "29308  friend girl seven year shit finally hit fan to...\n",
            "29309  wow beleave read glad date infp done long dist...\n",
            "29310  could probably use advice think bit hang actua...\n",
            "29311  thing today breakfast bed boyfriend people ord...\n",
            "\n",
            "[29312 rows x 1 columns]\n"
          ]
        }
      ],
      "source": [
        "print(X)"
      ]
    },
    {
      "cell_type": "code",
      "execution_count": null,
      "metadata": {
        "colab": {
          "base_uri": "https://localhost:8080/"
        },
        "id": "QjmLak_Qb-mZ",
        "outputId": "53a6bcd4-1159-4ae7-e7db-5a9a1d32009e"
      },
      "outputs": [
        {
          "output_type": "stream",
          "name": "stdout",
          "text": [
            "      E-I N-S F-T J-P  type_E  type_I  type_N  type_S  type_F  type_T  type_J  \\\n",
            "0       I   S   F   J       0       1       0       1       1       0       1   \n",
            "1       E   S   F   P       1       0       0       1       1       0       0   \n",
            "2       E   N   F   J       1       0       1       0       1       0       1   \n",
            "3       I   S   F   P       0       1       0       1       1       0       0   \n",
            "4       E   S   F   J       1       0       0       1       1       0       1   \n",
            "...    ..  ..  ..  ..     ...     ...     ...     ...     ...     ...     ...   \n",
            "29307   I   S   T   J       0       1       0       1       0       1       1   \n",
            "29308   E   S   F   P       1       0       0       1       1       0       0   \n",
            "29309   I   S   T   P       0       1       0       1       0       1       0   \n",
            "29310   E   N   T   P       1       0       1       0       0       1       0   \n",
            "29311   I   S   F   J       0       1       0       1       1       0       1   \n",
            "\n",
            "       type_P  \n",
            "0           0  \n",
            "1           1  \n",
            "2           0  \n",
            "3           1  \n",
            "4           0  \n",
            "...       ...  \n",
            "29307       0  \n",
            "29308       1  \n",
            "29309       1  \n",
            "29310       1  \n",
            "29311       0  \n",
            "\n",
            "[29312 rows x 12 columns]\n"
          ]
        }
      ],
      "source": [
        "print(y)"
      ]
    },
    {
      "cell_type": "code",
      "execution_count": null,
      "metadata": {
        "colab": {
          "base_uri": "https://localhost:8080/",
          "height": 424
        },
        "id": "fjNbjNfkL0PJ",
        "outputId": "6958ca03-eb6d-4bff-f3c7-36af59b0abd8"
      },
      "outputs": [
        {
          "output_type": "stream",
          "name": "stderr",
          "text": [
            "<ipython-input-42-3cfbcdedffe2>:5: MatplotlibDeprecationWarning: Auto-removal of overlapping axes is deprecated since 3.6 and will be removed two minor releases later; explicitly call ax.remove() as needed.\n",
            "  plt.subplot(1,4, j+1)\n"
          ]
        },
        {
          "output_type": "display_data",
          "data": {
            "text/plain": [
              "<Figure size 1600x400 with 4 Axes>"
            ],
            "image/png": "[encoded data removed]"
          },
          "metadata": {}
        }
      ],
      "source": [
        "def show_distribution(data, x=[\"E-I\", \"N-S\", \"F-T\",\"J-P\"], fig_size=(16,4), xticks_size=10, palette=\"husl\"):\n",
        "    fig, ax = plt.subplots(len(x), figsize=fig_size)\n",
        "    j = 0\n",
        "    for _x in x:\n",
        "        plt.subplot(1,4, j+1)\n",
        "        sns.countplot(x=_x, data=data, palette=palette)\n",
        "        plt.xticks(size=xticks_size)\n",
        "        j+=1    \n",
        "        \n",
        "show_distribution(data)"
      ]
    },
    {
      "cell_type": "code",
      "execution_count": null,
      "metadata": {
        "id": "mxiTHmpqL0PK"
      },
      "outputs": [],
      "source": [
        "from imblearn.over_sampling import RandomOverSampler"
      ]
    },
    {
      "cell_type": "code",
      "execution_count": null,
      "metadata": {
        "id": "A7uThvfdL0PK"
      },
      "outputs": [],
      "source": [
        "oversample = RandomOverSampler()"
      ]
    },
    {
      "cell_type": "code",
      "execution_count": null,
      "metadata": {
        "id": "tATx9kKVL0PK"
      },
      "outputs": [],
      "source": [
        "y_ei = y[\"type_E\"]\n",
        "y_ns = y[\"type_N\"]\n",
        "y_ft = y[\"type_F\"]\n",
        "y_jp = y[\"type_J\"]"
      ]
    },
    {
      "cell_type": "code",
      "execution_count": null,
      "metadata": {
        "id": "O5Es0eag-Qkf"
      },
      "outputs": [],
      "source": [
        "from nltk.tokenize import word_tokenize\n",
        "\n",
        "def tokener(X):\n",
        "  X['cleaned_post'] = X['cleaned_post'].apply(lambda x: x.lower())  # convert to lowercase\n",
        "  X['cleaned_post'] = X['cleaned_post'].apply(lambda x: word_tokenize(x))  # tokenize the cleaned_post\n",
        "  return X"
      ]
    },
    {
      "cell_type": "code",
      "execution_count": null,
      "metadata": {
        "colab": {
          "base_uri": "https://localhost:8080/",
          "height": 425
        },
        "id": "XHRYLh0n-R5c",
        "outputId": "e7a8ad0e-bf7e-4fa5-9bc0-9aad3a29d497"
      },
      "outputs": [
        {
          "output_type": "stream",
          "name": "stderr",
          "text": [
            "<ipython-input-46-5bedc636f128>:4: SettingWithCopyWarning: \n",
            "A value is trying to be set on a copy of a slice from a DataFrame.\n",
            "Try using .loc[row_indexer,col_indexer] = value instead\n",
            "\n",
            "See the caveats in the documentation: https://pandas.pydata.org/pandas-docs/stable/user_guide/indexing.html#returning-a-view-versus-a-copy\n",
            "  X['cleaned_post'] = X['cleaned_post'].apply(lambda x: x.lower())  # convert to lowercase\n",
            "<ipython-input-46-5bedc636f128>:5: SettingWithCopyWarning: \n",
            "A value is trying to be set on a copy of a slice from a DataFrame.\n",
            "Try using .loc[row_indexer,col_indexer] = value instead\n",
            "\n",
            "See the caveats in the documentation: https://pandas.pydata.org/pandas-docs/stable/user_guide/indexing.html#returning-a-view-versus-a-copy\n",
            "  X['cleaned_post'] = X['cleaned_post'].apply(lambda x: word_tokenize(x))  # tokenize the cleaned_post\n"
          ]
        },
        {
          "output_type": "execute_result",
          "data": {
            "text/plain": [
              "                                        cleaned_post\n",
              "0  [everything, said, spot, mmmmmmmm, ekac, sure,...\n",
              "1  [okay, everybody, preference, also, like, korr...\n",
              "2  [laughed, hard, post, especially, line, true, ...\n",
              "3  [best, friend, bass, player, band, intp, fun, ...\n",
              "4  [bird, prey, always, look, angry, bit, would, ..."
            ],
            "text/html": [
              "\n",
              "  <div id=\"df-e089f36f-0425-4f22-adb7-b8218c6dd802\">\n",
              "    <div class=\"colab-df-container\">\n",
              "      <div>\n",
              "<style scoped>\n",
              "    .dataframe tbody tr th:only-of-type {\n",
              "        vertical-align: middle;\n",
              "    }\n",
              "\n",
              "    .dataframe tbody tr th {\n",
              "        vertical-align: top;\n",
              "    }\n",
              "\n",
              "    .dataframe thead th {\n",
              "        text-align: right;\n",
              "    }\n",
              "</style>\n",
              "<table border=\"1\" class=\"dataframe\">\n",
              "  <thead>\n",
              "    <tr style=\"text-align: right;\">\n",
              "      <th></th>\n",
              "      <th>cleaned_post</th>\n",
              "    </tr>\n",
              "  </thead>\n",
              "  <tbody>\n",
              "    <tr>\n",
              "      <th>0</th>\n",
              "      <td>[everything, said, spot, mmmmmmmm, ekac, sure,...</td>\n",
              "    </tr>\n",
              "    <tr>\n",
              "      <th>1</th>\n",
              "      <td>[okay, everybody, preference, also, like, korr...</td>\n",
              "    </tr>\n",
              "    <tr>\n",
              "      <th>2</th>\n",
              "      <td>[laughed, hard, post, especially, line, true, ...</td>\n",
              "    </tr>\n",
              "    <tr>\n",
              "      <th>3</th>\n",
              "      <td>[best, friend, bass, player, band, intp, fun, ...</td>\n",
              "    </tr>\n",
              "    <tr>\n",
              "      <th>4</th>\n",
              "      <td>[bird, prey, always, look, angry, bit, would, ...</td>\n",
              "    </tr>\n",
              "  </tbody>\n",
              "</table>\n",
              "</div>\n",
              "      <button class=\"colab-df-convert\" onclick=\"convertToInteractive('df-e089f36f-0425-4f22-adb7-b8218c6dd802')\"\n",
              "              title=\"Convert this dataframe to an interactive table.\"\n",
              "              style=\"display:none;\">\n",
              "        \n",
              "  <svg xmlns=\"http://www.w3.org/2000/svg\" height=\"24px\"viewBox=\"0 0 24 24\"\n",
              "       width=\"24px\">\n",
              "    <path d=\"M0 0h24v24H0V0z\" fill=\"none\"/>\n",
              "    <path d=\"M18.56 5.44l.94 2.06.94-2.06 2.06-.94-2.06-.94-.94-2.06-.94 2.06-2.06.94zm-11 1L8.5 8.5l.94-2.06 2.06-.94-2.06-.94L8.5 2.5l-.94 2.06-2.06.94zm10 10l.94 2.06.94-2.06 2.06-.94-2.06-.94-.94-2.06-.94 2.06-2.06.94z\"/><path d=\"M17.41 7.96l-1.37-1.37c-.4-.4-.92-.59-1.43-.59-.52 0-1.04.2-1.43.59L10.3 9.45l-7.72 7.72c-.78.78-.78 2.05 0 2.83L4 21.41c.39.39.9.59 1.41.59.51 0 1.02-.2 1.41-.59l7.78-7.78 2.81-2.81c.8-.78.8-2.07 0-2.86zM5.41 20L4 18.59l7.72-7.72 1.47 1.35L5.41 20z\"/>\n",
              "  </svg>\n",
              "      </button>\n",
              "      \n",
              "  <style>\n",
              "    .colab-df-container {\n",
              "      display:flex;\n",
              "      flex-wrap:wrap;\n",
              "      gap: 12px;\n",
              "    }\n",
              "\n",
              "    .colab-df-convert {\n",
              "      background-color: #E8F0FE;\n",
              "      border: none;\n",
              "      border-radius: 50%;\n",
              "      cursor: pointer;\n",
              "      display: none;\n",
              "      fill: #1967D2;\n",
              "      height: 32px;\n",
              "      padding: 0 0 0 0;\n",
              "      width: 32px;\n",
              "    }\n",
              "\n",
              "    .colab-df-convert:hover {\n",
              "      background-color: #E2EBFA;\n",
              "      box-shadow: 0px 1px 2px rgba(60, 64, 67, 0.3), 0px 1px 3px 1px rgba(60, 64, 67, 0.15);\n",
              "      fill: #174EA6;\n",
              "    }\n",
              "\n",
              "    [theme=dark] .colab-df-convert {\n",
              "      background-color: #3B4455;\n",
              "      fill: #D2E3FC;\n",
              "    }\n",
              "\n",
              "    [theme=dark] .colab-df-convert:hover {\n",
              "      background-color: #434B5C;\n",
              "      box-shadow: 0px 1px 3px 1px rgba(0, 0, 0, 0.15);\n",
              "      filter: drop-shadow(0px 1px 2px rgba(0, 0, 0, 0.3));\n",
              "      fill: #FFFFFF;\n",
              "    }\n",
              "  </style>\n",
              "\n",
              "      <script>\n",
              "        const buttonEl =\n",
              "          document.querySelector('#df-e089f36f-0425-4f22-adb7-b8218c6dd802 button.colab-df-convert');\n",
              "        buttonEl.style.display =\n",
              "          google.colab.kernel.accessAllowed ? 'block' : 'none';\n",
              "\n",
              "        async function convertToInteractive(key) {\n",
              "          const element = document.querySelector('#df-e089f36f-0425-4f22-adb7-b8218c6dd802');\n",
              "          const dataTable =\n",
              "            await google.colab.kernel.invokeFunction('convertToInteractive',\n",
              "                                                     [key], {});\n",
              "          if (!dataTable) return;\n",
              "\n",
              "          const docLinkHtml = 'Like what you see? Visit the ' +\n",
              "            '<a target=\"_blank\" href=https://colab.research.google.com/notebooks/data_table.ipynb>data table notebook</a>'\n",
              "            + ' to learn more about interactive tables.';\n",
              "          element.innerHTML = '';\n",
              "          dataTable['output_type'] = 'display_data';\n",
              "          await google.colab.output.renderOutput(dataTable, element);\n",
              "          const docLink = document.createElement('div');\n",
              "          docLink.innerHTML = docLinkHtml;\n",
              "          element.appendChild(docLink);\n",
              "        }\n",
              "      </script>\n",
              "    </div>\n",
              "  </div>\n",
              "  "
            ]
          },
          "metadata": {},
          "execution_count": 47
        }
      ],
      "source": [
        "X = tokener(X)\n",
        "X.head()"
      ]
    },
    {
      "cell_type": "markdown",
      "metadata": {
        "id": "NA41Tg2wL0PN"
      },
      "source": [
        "#### Train-test split for each classes"
      ]
    },
    {
      "cell_type": "code",
      "execution_count": null,
      "metadata": {
        "id": "nWk1GKB6L0PN"
      },
      "outputs": [],
      "source": [
        "from sklearn.model_selection import train_test_split"
      ]
    },
    {
      "cell_type": "code",
      "execution_count": null,
      "metadata": {
        "id": "25wNQvM0r8o2"
      },
      "outputs": [],
      "source": [
        "X_train,X_test,Y_train,Y_test = train_test_split(X,y,test_size=0.2,random_state=42)\n",
        "\n",
        "y_ei_new = Y_train[\"type_E\"]\n",
        "y_ns_new = Y_train[\"type_N\"]\n",
        "y_ft_new = Y_train[\"type_F\"]\n",
        "y_jp_new = Y_train[\"type_J\"]\n",
        "\n",
        "y_ei_test = Y_test[\"type_E\"]\n",
        "y_ns_test = Y_test[\"type_N\"]\n",
        "y_ft_test = Y_test[\"type_F\"]\n",
        "y_jp_test = Y_test[\"type_J\"]"
      ]
    },
    {
      "cell_type": "code",
      "execution_count": null,
      "metadata": {
        "colab": {
          "base_uri": "https://localhost:8080/"
        },
        "id": "joXcKnP_L0PO",
        "outputId": "79b21d10-7927-4b86-af2c-24ce219fbe86"
      },
      "outputs": [
        {
          "output_type": "stream",
          "name": "stdout",
          "text": [
            "8132     0\n",
            "7889     1\n",
            "1350     0\n",
            "14006    0\n",
            "6460     0\n",
            "        ..\n",
            "21575    0\n",
            "5390     0\n",
            "860      1\n",
            "15795    1\n",
            "23654    0\n",
            "Name: type_E, Length: 23449, dtype: uint8\n"
          ]
        }
      ],
      "source": [
        "X_train_ei, X_test_ei, y_train_ei, y_test_ei = train_test_split(X, y_ei, test_size=0.2, random_state=42)\n",
        "X_train_ns, X_test_ns, y_train_ns, y_test_ns = train_test_split(X, y_ns, test_size=0.2, random_state=42)\n",
        "X_train_ft, X_test_ft, y_train_ft, y_test_ft = train_test_split(X, y_ft, test_size=0.2, random_state=42)\n",
        "X_train_jp, X_test_jp, y_train_jp, y_test_jp = train_test_split(X, y_jp, test_size=0.2, random_state=42)\n",
        "\n",
        "print(y_train_ei)"
      ]
    },
    {
      "cell_type": "code",
      "execution_count": null,
      "metadata": {
        "id": "IOW3ovduL0PQ"
      },
      "outputs": [],
      "source": [
        "y_train_ei.name, y_test_ei.name = \"E-I\", \"E-I\"\n",
        "y_train_ns.name, y_test_ns.name = \"N-S\", \"N-S\"\n",
        "y_train_ft.name, y_test_ft.name = \"F-T\", \"F-T\"\n",
        "y_train_jp.name, y_test_jp.name = \"J-P\", \"J-P\"\n",
        "\n",
        "y_ei_new.name,y_ei_test.name = \"E-I\", \"E-I\"\n",
        "y_ns_new.name,y_ns_test.name = \"N-S\", \"N-S\"\n",
        "y_ft_new.name, y_ft_test.name = \"F-T\", \"F-T\"\n",
        "y_jp_new.name, y_jp_test.name = \"J-P\", \"J-P\""
      ]
    },
    {
      "cell_type": "code",
      "execution_count": null,
      "metadata": {
        "id": "H6ahQtQj1wxL"
      },
      "outputs": [],
      "source": [
        "import pandas as pd\n",
        "import gensim\n",
        "from gensim.models import Word2Vec\n",
        "from gensim.models.phrases import Phrases, Phraser\n",
        "import multiprocessing"
      ]
    },
    {
      "cell_type": "code",
      "execution_count": null,
      "metadata": {
        "id": "bXBfsnPXWvn-"
      },
      "outputs": [],
      "source": [
        "# Train the Word2Vec model\n",
        "model = Word2Vec(X['cleaned_post'], vector_size=1000, window=10, min_count=1, workers=4, sg=1)"
      ]
    },
    {
      "cell_type": "markdown",
      "metadata": {
        "id": "iFfOdmrZKw9z"
      },
      "source": []
    },
    {
      "cell_type": "code",
      "execution_count": null,
      "metadata": {
        "id": "KyIFazaksPRp"
      },
      "outputs": [],
      "source": [
        "def sentence_to_vector(sentence):\n",
        "    words = sentence\n",
        "    vectors = []\n",
        "    for word in words:\n",
        "        if word in model.wv.key_to_index:\n",
        "            vectors.append(model.wv[word])\n",
        "    if vectors:\n",
        "        return np.mean(vectors, axis=0)\n",
        "    else:\n",
        "        return np.zeros(model.vector_size)\n"
      ]
    },
    {
      "cell_type": "code",
      "execution_count": null,
      "metadata": {
        "id": "devVNsBrsQMs"
      },
      "outputs": [],
      "source": [
        "import numpy as np\n",
        "\n",
        "X_train['vector_column'] = X_train['cleaned_post'].apply(sentence_to_vector)\n",
        "X_test['vector_column'] = X_test['cleaned_post'].apply(sentence_to_vector)\n",
        "\n",
        "X_train_ei['vector_column'] = X_train_ei['cleaned_post'].apply(sentence_to_vector)\n",
        "X_test_ei['vector_column'] = X_test_ei['cleaned_post'].apply(sentence_to_vector)\n",
        "\n",
        "X_train_ns['vector_column'] = X_train_ns['cleaned_post'].apply(sentence_to_vector)\n",
        "X_test_ns['vector_column'] = X_test_ns['cleaned_post'].apply(sentence_to_vector)\n",
        "\n",
        "X_train_ft['vector_column'] = X_train_ft['cleaned_post'].apply(sentence_to_vector)\n",
        "X_test_ft['vector_column'] = X_test_ft['cleaned_post'].apply(sentence_to_vector)\n",
        "\n",
        "X_train_jp['vector_column'] = X_train_jp['cleaned_post'].apply(sentence_to_vector)\n",
        "X_test_jp['vector_column'] = X_test_jp['cleaned_post'].apply(sentence_to_vector)\n"
      ]
    },
    {
      "cell_type": "code",
      "execution_count": null,
      "metadata": {
        "id": "8lJu12cHgC0c"
      },
      "outputs": [],
      "source": [
        "#case - 2\n",
        "X_train_set = [X_train_ei,X_train_ns,X_train_ft,X_train_jp]\n",
        "X_test_set = [X_test_ei,X_test_ns,X_test_ft,X_test_jp]\n",
        "\n",
        "y_train_set = [y_ei_new,y_ns_new,y_ft_new,y_jp_new]\n",
        "y_test_set = [y_ei_test,y_ns_test,y_ft_test,y_jp_test]"
      ]
    },
    {
      "cell_type": "code",
      "execution_count": null,
      "metadata": {
        "colab": {
          "base_uri": "https://localhost:8080/"
        },
        "id": "Nc4UzRo96gHw",
        "outputId": "685c6c2c-496c-44c2-8c97-a232de2b913d"
      },
      "outputs": [
        {
          "output_type": "stream",
          "name": "stdout",
          "text": [
            "Looking in indexes: https://pypi.org/simple, https://us-python.pkg.dev/colab-wheels/public/simple/\n",
            "Requirement already satisfied: xgboost in /usr/local/lib/python3.9/dist-packages (1.7.5)\n",
            "Requirement already satisfied: numpy in /usr/local/lib/python3.9/dist-packages (from xgboost) (1.22.4)\n",
            "Requirement already satisfied: scipy in /usr/local/lib/python3.9/dist-packages (from xgboost) (1.10.1)\n"
          ]
        }
      ],
      "source": [
        "!pip install xgboost\n",
        "\n",
        "from sklearn.naive_bayes import MultinomialNB, GaussianNB\n",
        "from sklearn.svm import SVC\n",
        "from sklearn.tree import DecisionTreeClassifier\n",
        "from sklearn.ensemble import RandomForestClassifier\n",
        "import xgboost\n",
        "import pickle\n",
        "from sklearn import metrics"
      ]
    },
    {
      "cell_type": "markdown",
      "metadata": {
        "id": "u0kpVGMmL0PT"
      },
      "source": [
        "## Model Creation & Model Training & Model Saving"
      ]
    },
    {
      "cell_type": "code",
      "execution_count": null,
      "metadata": {
        "id": "bwGnoanaL0PU"
      },
      "outputs": [],
      "source": [
        "def create_models():\n",
        "    svm_clf = SVC(C=1.0, kernel='linear', degree=3, gamma='auto')\n",
        "    dt_clf  = DecisionTreeClassifier(max_depth=7)\n",
        "    rf_clf  = RandomForestClassifier(n_estimators=750)\n",
        "    xgb_clf = xgboost.XGBClassifier(use_label_encoder=False)\n",
        "    return {\"SVM\":svm_clf, \"DecisionTree\":dt_clf, \"RandomForest\":rf_clf, \"Xgboost\":xgb_clf}"
      ]
    },
    {
      "cell_type": "markdown",
      "metadata": {
        "id": "P4nFwk46L0PU"
      },
      "source": [
        "#### Model Performance Evaluation with accuracy & f1-score & roc-auc score"
      ]
    },
    {
      "cell_type": "code",
      "execution_count": null,
      "metadata": {
        "id": "7cXHRJ6KL0PU"
      },
      "outputs": [],
      "source": [
        "_metrics = [\"Accuracy\", \"Accuracy\", \"Accuracy\" ,\"Accuracy\", \"Precision\", \"Precision\", \"Precision\",\"Precision\", \"Recall\",\"Recall\",\"Recall\",\"Recall\", \"F1-Score\", \"F1-Score\", \"F1-Score\", \"F1-Score\", \"Roc-Auc Score\", \"Roc-Auc Score\", \"Roc-Auc Score\", \"Roc-Auc Score\"]\n",
        "_types   = [\"E-I\", \"N-S\", \"F-T\", \"J-P\", \"E-I\", \"N-S\", \"F-T\", \"J-P\", \"E-I\", \"N-S\", \"F-T\", \"J-P\",\"E-I\", \"N-S\", \"F-T\", \"J-P\",\"E-I\", \"N-S\", \"F-T\", \"J-P\"]\n",
        "_columns = [\"SVM\", \"DecisionTree\", \"RandomForest\", \"Xgboost\"]"
      ]
    },
    {
      "cell_type": "code",
      "execution_count": null,
      "metadata": {
        "colab": {
          "base_uri": "https://localhost:8080/",
          "height": 676
        },
        "id": "tnMer2TjL0PV",
        "outputId": "f36bb381-0b5f-4dc5-d12c-14e6bd90013c"
      },
      "outputs": [
        {
          "output_type": "execute_result",
          "data": {
            "text/plain": [
              "                   SVM DecisionTree RandomForest Xgboost\n",
              "Accuracy      E-I  NaN          NaN          NaN     NaN\n",
              "              N-S  NaN          NaN          NaN     NaN\n",
              "              F-T  NaN          NaN          NaN     NaN\n",
              "              J-P  NaN          NaN          NaN     NaN\n",
              "Precision     E-I  NaN          NaN          NaN     NaN\n",
              "              N-S  NaN          NaN          NaN     NaN\n",
              "              F-T  NaN          NaN          NaN     NaN\n",
              "              J-P  NaN          NaN          NaN     NaN\n",
              "Recall        E-I  NaN          NaN          NaN     NaN\n",
              "              N-S  NaN          NaN          NaN     NaN\n",
              "              F-T  NaN          NaN          NaN     NaN\n",
              "              J-P  NaN          NaN          NaN     NaN\n",
              "F1-Score      E-I  NaN          NaN          NaN     NaN\n",
              "              N-S  NaN          NaN          NaN     NaN\n",
              "              F-T  NaN          NaN          NaN     NaN\n",
              "              J-P  NaN          NaN          NaN     NaN\n",
              "Roc-Auc Score E-I  NaN          NaN          NaN     NaN\n",
              "              N-S  NaN          NaN          NaN     NaN\n",
              "              F-T  NaN          NaN          NaN     NaN\n",
              "              J-P  NaN          NaN          NaN     NaN"
            ],
            "text/html": [
              "\n",
              "  <div id=\"df-32f9f8fd-bef7-4df7-aad9-72e9cf62544b\">\n",
              "    <div class=\"colab-df-container\">\n",
              "      <div>\n",
              "<style scoped>\n",
              "    .dataframe tbody tr th:only-of-type {\n",
              "        vertical-align: middle;\n",
              "    }\n",
              "\n",
              "    .dataframe tbody tr th {\n",
              "        vertical-align: top;\n",
              "    }\n",
              "\n",
              "    .dataframe thead th {\n",
              "        text-align: right;\n",
              "    }\n",
              "</style>\n",
              "<table border=\"1\" class=\"dataframe\">\n",
              "  <thead>\n",
              "    <tr style=\"text-align: right;\">\n",
              "      <th></th>\n",
              "      <th></th>\n",
              "      <th>SVM</th>\n",
              "      <th>DecisionTree</th>\n",
              "      <th>RandomForest</th>\n",
              "      <th>Xgboost</th>\n",
              "    </tr>\n",
              "  </thead>\n",
              "  <tbody>\n",
              "    <tr>\n",
              "      <th rowspan=\"4\" valign=\"top\">Accuracy</th>\n",
              "      <th>E-I</th>\n",
              "      <td>NaN</td>\n",
              "      <td>NaN</td>\n",
              "      <td>NaN</td>\n",
              "      <td>NaN</td>\n",
              "    </tr>\n",
              "    <tr>\n",
              "      <th>N-S</th>\n",
              "      <td>NaN</td>\n",
              "      <td>NaN</td>\n",
              "      <td>NaN</td>\n",
              "      <td>NaN</td>\n",
              "    </tr>\n",
              "    <tr>\n",
              "      <th>F-T</th>\n",
              "      <td>NaN</td>\n",
              "      <td>NaN</td>\n",
              "      <td>NaN</td>\n",
              "      <td>NaN</td>\n",
              "    </tr>\n",
              "    <tr>\n",
              "      <th>J-P</th>\n",
              "      <td>NaN</td>\n",
              "      <td>NaN</td>\n",
              "      <td>NaN</td>\n",
              "      <td>NaN</td>\n",
              "    </tr>\n",
              "    <tr>\n",
              "      <th rowspan=\"4\" valign=\"top\">Precision</th>\n",
              "      <th>E-I</th>\n",
              "      <td>NaN</td>\n",
              "      <td>NaN</td>\n",
              "      <td>NaN</td>\n",
              "      <td>NaN</td>\n",
              "    </tr>\n",
              "    <tr>\n",
              "      <th>N-S</th>\n",
              "      <td>NaN</td>\n",
              "      <td>NaN</td>\n",
              "      <td>NaN</td>\n",
              "      <td>NaN</td>\n",
              "    </tr>\n",
              "    <tr>\n",
              "      <th>F-T</th>\n",
              "      <td>NaN</td>\n",
              "      <td>NaN</td>\n",
              "      <td>NaN</td>\n",
              "      <td>NaN</td>\n",
              "    </tr>\n",
              "    <tr>\n",
              "      <th>J-P</th>\n",
              "      <td>NaN</td>\n",
              "      <td>NaN</td>\n",
              "      <td>NaN</td>\n",
              "      <td>NaN</td>\n",
              "    </tr>\n",
              "    <tr>\n",
              "      <th rowspan=\"4\" valign=\"top\">Recall</th>\n",
              "      <th>E-I</th>\n",
              "      <td>NaN</td>\n",
              "      <td>NaN</td>\n",
              "      <td>NaN</td>\n",
              "      <td>NaN</td>\n",
              "    </tr>\n",
              "    <tr>\n",
              "      <th>N-S</th>\n",
              "      <td>NaN</td>\n",
              "      <td>NaN</td>\n",
              "      <td>NaN</td>\n",
              "      <td>NaN</td>\n",
              "    </tr>\n",
              "    <tr>\n",
              "      <th>F-T</th>\n",
              "      <td>NaN</td>\n",
              "      <td>NaN</td>\n",
              "      <td>NaN</td>\n",
              "      <td>NaN</td>\n",
              "    </tr>\n",
              "    <tr>\n",
              "      <th>J-P</th>\n",
              "      <td>NaN</td>\n",
              "      <td>NaN</td>\n",
              "      <td>NaN</td>\n",
              "      <td>NaN</td>\n",
              "    </tr>\n",
              "    <tr>\n",
              "      <th rowspan=\"4\" valign=\"top\">F1-Score</th>\n",
              "      <th>E-I</th>\n",
              "      <td>NaN</td>\n",
              "      <td>NaN</td>\n",
              "      <td>NaN</td>\n",
              "      <td>NaN</td>\n",
              "    </tr>\n",
              "    <tr>\n",
              "      <th>N-S</th>\n",
              "      <td>NaN</td>\n",
              "      <td>NaN</td>\n",
              "      <td>NaN</td>\n",
              "      <td>NaN</td>\n",
              "    </tr>\n",
              "    <tr>\n",
              "      <th>F-T</th>\n",
              "      <td>NaN</td>\n",
              "      <td>NaN</td>\n",
              "      <td>NaN</td>\n",
              "      <td>NaN</td>\n",
              "    </tr>\n",
              "    <tr>\n",
              "      <th>J-P</th>\n",
              "      <td>NaN</td>\n",
              "      <td>NaN</td>\n",
              "      <td>NaN</td>\n",
              "      <td>NaN</td>\n",
              "    </tr>\n",
              "    <tr>\n",
              "      <th rowspan=\"4\" valign=\"top\">Roc-Auc Score</th>\n",
              "      <th>E-I</th>\n",
              "      <td>NaN</td>\n",
              "      <td>NaN</td>\n",
              "      <td>NaN</td>\n",
              "      <td>NaN</td>\n",
              "    </tr>\n",
              "    <tr>\n",
              "      <th>N-S</th>\n",
              "      <td>NaN</td>\n",
              "      <td>NaN</td>\n",
              "      <td>NaN</td>\n",
              "      <td>NaN</td>\n",
              "    </tr>\n",
              "    <tr>\n",
              "      <th>F-T</th>\n",
              "      <td>NaN</td>\n",
              "      <td>NaN</td>\n",
              "      <td>NaN</td>\n",
              "      <td>NaN</td>\n",
              "    </tr>\n",
              "    <tr>\n",
              "      <th>J-P</th>\n",
              "      <td>NaN</td>\n",
              "      <td>NaN</td>\n",
              "      <td>NaN</td>\n",
              "      <td>NaN</td>\n",
              "    </tr>\n",
              "  </tbody>\n",
              "</table>\n",
              "</div>\n",
              "      <button class=\"colab-df-convert\" onclick=\"convertToInteractive('df-32f9f8fd-bef7-4df7-aad9-72e9cf62544b')\"\n",
              "              title=\"Convert this dataframe to an interactive table.\"\n",
              "              style=\"display:none;\">\n",
              "        \n",
              "  <svg xmlns=\"http://www.w3.org/2000/svg\" height=\"24px\"viewBox=\"0 0 24 24\"\n",
              "       width=\"24px\">\n",
              "    <path d=\"M0 0h24v24H0V0z\" fill=\"none\"/>\n",
              "    <path d=\"M18.56 5.44l.94 2.06.94-2.06 2.06-.94-2.06-.94-.94-2.06-.94 2.06-2.06.94zm-11 1L8.5 8.5l.94-2.06 2.06-.94-2.06-.94L8.5 2.5l-.94 2.06-2.06.94zm10 10l.94 2.06.94-2.06 2.06-.94-2.06-.94-.94-2.06-.94 2.06-2.06.94z\"/><path d=\"M17.41 7.96l-1.37-1.37c-.4-.4-.92-.59-1.43-.59-.52 0-1.04.2-1.43.59L10.3 9.45l-7.72 7.72c-.78.78-.78 2.05 0 2.83L4 21.41c.39.39.9.59 1.41.59.51 0 1.02-.2 1.41-.59l7.78-7.78 2.81-2.81c.8-.78.8-2.07 0-2.86zM5.41 20L4 18.59l7.72-7.72 1.47 1.35L5.41 20z\"/>\n",
              "  </svg>\n",
              "      </button>\n",
              "      \n",
              "  <style>\n",
              "    .colab-df-container {\n",
              "      display:flex;\n",
              "      flex-wrap:wrap;\n",
              "      gap: 12px;\n",
              "    }\n",
              "\n",
              "    .colab-df-convert {\n",
              "      background-color: #E8F0FE;\n",
              "      border: none;\n",
              "      border-radius: 50%;\n",
              "      cursor: pointer;\n",
              "      display: none;\n",
              "      fill: #1967D2;\n",
              "      height: 32px;\n",
              "      padding: 0 0 0 0;\n",
              "      width: 32px;\n",
              "    }\n",
              "\n",
              "    .colab-df-convert:hover {\n",
              "      background-color: #E2EBFA;\n",
              "      box-shadow: 0px 1px 2px rgba(60, 64, 67, 0.3), 0px 1px 3px 1px rgba(60, 64, 67, 0.15);\n",
              "      fill: #174EA6;\n",
              "    }\n",
              "\n",
              "    [theme=dark] .colab-df-convert {\n",
              "      background-color: #3B4455;\n",
              "      fill: #D2E3FC;\n",
              "    }\n",
              "\n",
              "    [theme=dark] .colab-df-convert:hover {\n",
              "      background-color: #434B5C;\n",
              "      box-shadow: 0px 1px 3px 1px rgba(0, 0, 0, 0.15);\n",
              "      filter: drop-shadow(0px 1px 2px rgba(0, 0, 0, 0.3));\n",
              "      fill: #FFFFFF;\n",
              "    }\n",
              "  </style>\n",
              "\n",
              "      <script>\n",
              "        const buttonEl =\n",
              "          document.querySelector('#df-32f9f8fd-bef7-4df7-aad9-72e9cf62544b button.colab-df-convert');\n",
              "        buttonEl.style.display =\n",
              "          google.colab.kernel.accessAllowed ? 'block' : 'none';\n",
              "\n",
              "        async function convertToInteractive(key) {\n",
              "          const element = document.querySelector('#df-32f9f8fd-bef7-4df7-aad9-72e9cf62544b');\n",
              "          const dataTable =\n",
              "            await google.colab.kernel.invokeFunction('convertToInteractive',\n",
              "                                                     [key], {});\n",
              "          if (!dataTable) return;\n",
              "\n",
              "          const docLinkHtml = 'Like what you see? Visit the ' +\n",
              "            '<a target=\"_blank\" href=https://colab.research.google.com/notebooks/data_table.ipynb>data table notebook</a>'\n",
              "            + ' to learn more about interactive tables.';\n",
              "          element.innerHTML = '';\n",
              "          dataTable['output_type'] = 'display_data';\n",
              "          await google.colab.output.renderOutput(dataTable, element);\n",
              "          const docLink = document.createElement('div');\n",
              "          docLink.innerHTML = docLinkHtml;\n",
              "          element.appendChild(docLink);\n",
              "        }\n",
              "      </script>\n",
              "    </div>\n",
              "  </div>\n",
              "  "
            ]
          },
          "metadata": {},
          "execution_count": 61
        }
      ],
      "source": [
        "evaluation_df = pd.DataFrame(columns=_columns, index=[_metrics, _types])\n",
        "evaluation_df"
      ]
    },
    {
      "cell_type": "code",
      "execution_count": null,
      "metadata": {
        "colab": {
          "base_uri": "https://localhost:8080/"
        },
        "id": "3g_P0N6kL0PV",
        "outputId": "7c87ba92-8806-40a1-d916-b7c261435ab2"
      },
      "outputs": [
        {
          "output_type": "stream",
          "name": "stderr",
          "text": [
            "/usr/local/lib/python3.9/dist-packages/xgboost/sklearn.py:1395: UserWarning: `use_label_encoder` is deprecated in 1.7.0.\n",
            "  warnings.warn(\"`use_label_encoder` is deprecated in 1.7.0.\")\n"
          ]
        },
        {
          "output_type": "execute_result",
          "data": {
            "text/plain": [
              "{'SVM': SVC(gamma='auto', kernel='linear'),\n",
              " 'DecisionTree': DecisionTreeClassifier(max_depth=7),\n",
              " 'RandomForest': RandomForestClassifier(n_estimators=750),\n",
              " 'Xgboost': XGBClassifier(base_score=None, booster=None, callbacks=None,\n",
              "               colsample_bylevel=None, colsample_bynode=None,\n",
              "               colsample_bytree=None, early_stopping_rounds=None,\n",
              "               enable_categorical=False, eval_metric=None, feature_types=None,\n",
              "               gamma=None, gpu_id=None, grow_policy=None, importance_type=None,\n",
              "               interaction_constraints=None, learning_rate=None, max_bin=None,\n",
              "               max_cat_threshold=None, max_cat_to_onehot=None,\n",
              "               max_delta_step=None, max_depth=None, max_leaves=None,\n",
              "               min_child_weight=None, missing=nan, monotone_constraints=None,\n",
              "               n_estimators=100, n_jobs=None, num_parallel_tree=None,\n",
              "               predictor=None, random_state=None, ...)}"
            ]
          },
          "metadata": {},
          "execution_count": 62
        }
      ],
      "source": [
        "models = create_models()\n",
        "models"
      ]
    },
    {
      "cell_type": "code",
      "execution_count": null,
      "metadata": {
        "id": "zcxDTSizL0PW",
        "colab": {
          "base_uri": "https://localhost:8080/"
        },
        "outputId": "390dca27-cc35-45d0-8efe-c6beb4970213"
      },
      "outputs": [
        {
          "output_type": "stream",
          "name": "stdout",
          "text": [
            "Word2Vec<vocab=87686, vector_size=1000, alpha=0.025> is training for E-I...\n",
            "Word2Vec<vocab=87686, vector_size=1000, alpha=0.025> is training for N-S...\n",
            "Word2Vec<vocab=87686, vector_size=1000, alpha=0.025> is training for F-T...\n",
            "Word2Vec<vocab=87686, vector_size=1000, alpha=0.025> is training for J-P...\n",
            "Word2Vec<vocab=87686, vector_size=1000, alpha=0.025> is training for E-I...\n",
            "Word2Vec<vocab=87686, vector_size=1000, alpha=0.025> is training for N-S...\n",
            "Word2Vec<vocab=87686, vector_size=1000, alpha=0.025> is training for F-T...\n",
            "Word2Vec<vocab=87686, vector_size=1000, alpha=0.025> is training for J-P...\n",
            "Word2Vec<vocab=87686, vector_size=1000, alpha=0.025> is training for E-I...\n",
            "Word2Vec<vocab=87686, vector_size=1000, alpha=0.025> is training for N-S...\n",
            "Word2Vec<vocab=87686, vector_size=1000, alpha=0.025> is training for F-T...\n",
            "Word2Vec<vocab=87686, vector_size=1000, alpha=0.025> is training for J-P...\n",
            "Word2Vec<vocab=87686, vector_size=1000, alpha=0.025> is training for E-I...\n",
            "Word2Vec<vocab=87686, vector_size=1000, alpha=0.025> is training for N-S...\n",
            "Word2Vec<vocab=87686, vector_size=1000, alpha=0.025> is training for F-T...\n",
            "Word2Vec<vocab=87686, vector_size=1000, alpha=0.025> is training for J-P...\n"
          ]
        }
      ],
      "source": [
        "for model_item in models.items():\n",
        "    for x_t,x_te,y_train, y_test in zip(X_train_set,X_test_set,y_train_set, y_test_set):\n",
        "        # Model creation and prediction\n",
        "        ml_model = model_item[1]\n",
        "        print(f\"{model} is training for {y_train.name}...\")\n",
        "        # # print(X_train.values.tolist)\n",
        "        # # print(X_train['vector_column']val)\n",
        "        # print(len(y_train_ei.values))\n",
        "        # print(len(y_train.values))\n",
        "        ml_model.fit(x_t['vector_column'].values.tolist(), y_train.values.tolist())\n",
        "        \n",
        "        pred = ml_model.predict(x_te['vector_column'].values.tolist())\n",
        "        # Performance evaluation metrics\n",
        "        evaluation_df.loc[\"Accuracy\",y_train.name][model_item[0]]      = round(metrics.accuracy_score(y_test, pred), 3)\n",
        "        evaluation_df.loc[\"Precision\",y_train.name][model_item[0]]     = round(metrics.precision_score(y_test, pred), 3)\n",
        "        evaluation_df.loc[\"Recall\",y_train.name][model_item[0]]        = round(metrics.recall_score(y_test, pred), 3)        \n",
        "        evaluation_df.loc[\"F1-Score\",y_train.name][model_item[0]]      = round(metrics.f1_score(y_test, pred), 3)\n",
        "        evaluation_df.loc[\"Roc-Auc Score\",y_train.name][model_item[0]] = round(metrics.roc_auc_score(y_test, pred), 3)"
      ]
    },
    {
      "cell_type": "code",
      "execution_count": null,
      "metadata": {
        "id": "OSe8CrYoL0PW",
        "colab": {
          "base_uri": "https://localhost:8080/",
          "height": 676
        },
        "outputId": "84e4041c-2647-487b-b294-2c34b1636d90"
      },
      "outputs": [
        {
          "output_type": "execute_result",
          "data": {
            "text/plain": [
              "                     SVM DecisionTree RandomForest Xgboost\n",
              "Accuracy      E-I  0.917        0.726        0.852   0.903\n",
              "              N-S  0.954        0.771        0.901   0.937\n",
              "              F-T  0.937        0.777        0.906   0.923\n",
              "              J-P  0.874        0.698        0.832   0.854\n",
              "Precision     E-I  0.939        0.753        0.903   0.919\n",
              "              N-S  0.951        0.759        0.882   0.932\n",
              "              F-T  0.943        0.794        0.914   0.927\n",
              "              J-P  0.885        0.705        0.845    0.86\n",
              "Recall        E-I  0.896        0.684        0.793   0.886\n",
              "              N-S  0.958        0.803        0.928   0.944\n",
              "              F-T   0.93        0.749        0.896   0.918\n",
              "              J-P   0.86        0.685        0.815   0.848\n",
              "F1-Score      E-I  0.917        0.717        0.844   0.902\n",
              "              N-S  0.954        0.781        0.905   0.938\n",
              "              F-T  0.936        0.771        0.905   0.922\n",
              "              J-P  0.872        0.695         0.83   0.854\n",
              "Roc-Auc Score E-I  0.918        0.727        0.853   0.903\n",
              "              N-S  0.954        0.771          0.9   0.936\n",
              "              F-T  0.937        0.777        0.906   0.923\n",
              "              J-P  0.874        0.698        0.832   0.854"
            ],
            "text/html": [
              "\n",
              "  <div id=\"df-95e874b3-08af-4a12-bd98-cbaca7d6ef70\">\n",
              "    <div class=\"colab-df-container\">\n",
              "      <div>\n",
              "<style scoped>\n",
              "    .dataframe tbody tr th:only-of-type {\n",
              "        vertical-align: middle;\n",
              "    }\n",
              "\n",
              "    .dataframe tbody tr th {\n",
              "        vertical-align: top;\n",
              "    }\n",
              "\n",
              "    .dataframe thead th {\n",
              "        text-align: right;\n",
              "    }\n",
              "</style>\n",
              "<table border=\"1\" class=\"dataframe\">\n",
              "  <thead>\n",
              "    <tr style=\"text-align: right;\">\n",
              "      <th></th>\n",
              "      <th></th>\n",
              "      <th>SVM</th>\n",
              "      <th>DecisionTree</th>\n",
              "      <th>RandomForest</th>\n",
              "      <th>Xgboost</th>\n",
              "    </tr>\n",
              "  </thead>\n",
              "  <tbody>\n",
              "    <tr>\n",
              "      <th rowspan=\"4\" valign=\"top\">Accuracy</th>\n",
              "      <th>E-I</th>\n",
              "      <td>0.917</td>\n",
              "      <td>0.726</td>\n",
              "      <td>0.852</td>\n",
              "      <td>0.903</td>\n",
              "    </tr>\n",
              "    <tr>\n",
              "      <th>N-S</th>\n",
              "      <td>0.954</td>\n",
              "      <td>0.771</td>\n",
              "      <td>0.901</td>\n",
              "      <td>0.937</td>\n",
              "    </tr>\n",
              "    <tr>\n",
              "      <th>F-T</th>\n",
              "      <td>0.937</td>\n",
              "      <td>0.777</td>\n",
              "      <td>0.906</td>\n",
              "      <td>0.923</td>\n",
              "    </tr>\n",
              "    <tr>\n",
              "      <th>J-P</th>\n",
              "      <td>0.874</td>\n",
              "      <td>0.698</td>\n",
              "      <td>0.832</td>\n",
              "      <td>0.854</td>\n",
              "    </tr>\n",
              "    <tr>\n",
              "      <th rowspan=\"4\" valign=\"top\">Precision</th>\n",
              "      <th>E-I</th>\n",
              "      <td>0.939</td>\n",
              "      <td>0.753</td>\n",
              "      <td>0.903</td>\n",
              "      <td>0.919</td>\n",
              "    </tr>\n",
              "    <tr>\n",
              "      <th>N-S</th>\n",
              "      <td>0.951</td>\n",
              "      <td>0.759</td>\n",
              "      <td>0.882</td>\n",
              "      <td>0.932</td>\n",
              "    </tr>\n",
              "    <tr>\n",
              "      <th>F-T</th>\n",
              "      <td>0.943</td>\n",
              "      <td>0.794</td>\n",
              "      <td>0.914</td>\n",
              "      <td>0.927</td>\n",
              "    </tr>\n",
              "    <tr>\n",
              "      <th>J-P</th>\n",
              "      <td>0.885</td>\n",
              "      <td>0.705</td>\n",
              "      <td>0.845</td>\n",
              "      <td>0.86</td>\n",
              "    </tr>\n",
              "    <tr>\n",
              "      <th rowspan=\"4\" valign=\"top\">Recall</th>\n",
              "      <th>E-I</th>\n",
              "      <td>0.896</td>\n",
              "      <td>0.684</td>\n",
              "      <td>0.793</td>\n",
              "      <td>0.886</td>\n",
              "    </tr>\n",
              "    <tr>\n",
              "      <th>N-S</th>\n",
              "      <td>0.958</td>\n",
              "      <td>0.803</td>\n",
              "      <td>0.928</td>\n",
              "      <td>0.944</td>\n",
              "    </tr>\n",
              "    <tr>\n",
              "      <th>F-T</th>\n",
              "      <td>0.93</td>\n",
              "      <td>0.749</td>\n",
              "      <td>0.896</td>\n",
              "      <td>0.918</td>\n",
              "    </tr>\n",
              "    <tr>\n",
              "      <th>J-P</th>\n",
              "      <td>0.86</td>\n",
              "      <td>0.685</td>\n",
              "      <td>0.815</td>\n",
              "      <td>0.848</td>\n",
              "    </tr>\n",
              "    <tr>\n",
              "      <th rowspan=\"4\" valign=\"top\">F1-Score</th>\n",
              "      <th>E-I</th>\n",
              "      <td>0.917</td>\n",
              "      <td>0.717</td>\n",
              "      <td>0.844</td>\n",
              "      <td>0.902</td>\n",
              "    </tr>\n",
              "    <tr>\n",
              "      <th>N-S</th>\n",
              "      <td>0.954</td>\n",
              "      <td>0.781</td>\n",
              "      <td>0.905</td>\n",
              "      <td>0.938</td>\n",
              "    </tr>\n",
              "    <tr>\n",
              "      <th>F-T</th>\n",
              "      <td>0.936</td>\n",
              "      <td>0.771</td>\n",
              "      <td>0.905</td>\n",
              "      <td>0.922</td>\n",
              "    </tr>\n",
              "    <tr>\n",
              "      <th>J-P</th>\n",
              "      <td>0.872</td>\n",
              "      <td>0.695</td>\n",
              "      <td>0.83</td>\n",
              "      <td>0.854</td>\n",
              "    </tr>\n",
              "    <tr>\n",
              "      <th rowspan=\"4\" valign=\"top\">Roc-Auc Score</th>\n",
              "      <th>E-I</th>\n",
              "      <td>0.918</td>\n",
              "      <td>0.727</td>\n",
              "      <td>0.853</td>\n",
              "      <td>0.903</td>\n",
              "    </tr>\n",
              "    <tr>\n",
              "      <th>N-S</th>\n",
              "      <td>0.954</td>\n",
              "      <td>0.771</td>\n",
              "      <td>0.9</td>\n",
              "      <td>0.936</td>\n",
              "    </tr>\n",
              "    <tr>\n",
              "      <th>F-T</th>\n",
              "      <td>0.937</td>\n",
              "      <td>0.777</td>\n",
              "      <td>0.906</td>\n",
              "      <td>0.923</td>\n",
              "    </tr>\n",
              "    <tr>\n",
              "      <th>J-P</th>\n",
              "      <td>0.874</td>\n",
              "      <td>0.698</td>\n",
              "      <td>0.832</td>\n",
              "      <td>0.854</td>\n",
              "    </tr>\n",
              "  </tbody>\n",
              "</table>\n",
              "</div>\n",
              "      <button class=\"colab-df-convert\" onclick=\"convertToInteractive('df-95e874b3-08af-4a12-bd98-cbaca7d6ef70')\"\n",
              "              title=\"Convert this dataframe to an interactive table.\"\n",
              "              style=\"display:none;\">\n",
              "        \n",
              "  <svg xmlns=\"http://www.w3.org/2000/svg\" height=\"24px\"viewBox=\"0 0 24 24\"\n",
              "       width=\"24px\">\n",
              "    <path d=\"M0 0h24v24H0V0z\" fill=\"none\"/>\n",
              "    <path d=\"M18.56 5.44l.94 2.06.94-2.06 2.06-.94-2.06-.94-.94-2.06-.94 2.06-2.06.94zm-11 1L8.5 8.5l.94-2.06 2.06-.94-2.06-.94L8.5 2.5l-.94 2.06-2.06.94zm10 10l.94 2.06.94-2.06 2.06-.94-2.06-.94-.94-2.06-.94 2.06-2.06.94z\"/><path d=\"M17.41 7.96l-1.37-1.37c-.4-.4-.92-.59-1.43-.59-.52 0-1.04.2-1.43.59L10.3 9.45l-7.72 7.72c-.78.78-.78 2.05 0 2.83L4 21.41c.39.39.9.59 1.41.59.51 0 1.02-.2 1.41-.59l7.78-7.78 2.81-2.81c.8-.78.8-2.07 0-2.86zM5.41 20L4 18.59l7.72-7.72 1.47 1.35L5.41 20z\"/>\n",
              "  </svg>\n",
              "      </button>\n",
              "      \n",
              "  <style>\n",
              "    .colab-df-container {\n",
              "      display:flex;\n",
              "      flex-wrap:wrap;\n",
              "      gap: 12px;\n",
              "    }\n",
              "\n",
              "    .colab-df-convert {\n",
              "      background-color: #E8F0FE;\n",
              "      border: none;\n",
              "      border-radius: 50%;\n",
              "      cursor: pointer;\n",
              "      display: none;\n",
              "      fill: #1967D2;\n",
              "      height: 32px;\n",
              "      padding: 0 0 0 0;\n",
              "      width: 32px;\n",
              "    }\n",
              "\n",
              "    .colab-df-convert:hover {\n",
              "      background-color: #E2EBFA;\n",
              "      box-shadow: 0px 1px 2px rgba(60, 64, 67, 0.3), 0px 1px 3px 1px rgba(60, 64, 67, 0.15);\n",
              "      fill: #174EA6;\n",
              "    }\n",
              "\n",
              "    [theme=dark] .colab-df-convert {\n",
              "      background-color: #3B4455;\n",
              "      fill: #D2E3FC;\n",
              "    }\n",
              "\n",
              "    [theme=dark] .colab-df-convert:hover {\n",
              "      background-color: #434B5C;\n",
              "      box-shadow: 0px 1px 3px 1px rgba(0, 0, 0, 0.15);\n",
              "      filter: drop-shadow(0px 1px 2px rgba(0, 0, 0, 0.3));\n",
              "      fill: #FFFFFF;\n",
              "    }\n",
              "  </style>\n",
              "\n",
              "      <script>\n",
              "        const buttonEl =\n",
              "          document.querySelector('#df-95e874b3-08af-4a12-bd98-cbaca7d6ef70 button.colab-df-convert');\n",
              "        buttonEl.style.display =\n",
              "          google.colab.kernel.accessAllowed ? 'block' : 'none';\n",
              "\n",
              "        async function convertToInteractive(key) {\n",
              "          const element = document.querySelector('#df-95e874b3-08af-4a12-bd98-cbaca7d6ef70');\n",
              "          const dataTable =\n",
              "            await google.colab.kernel.invokeFunction('convertToInteractive',\n",
              "                                                     [key], {});\n",
              "          if (!dataTable) return;\n",
              "\n",
              "          const docLinkHtml = 'Like what you see? Visit the ' +\n",
              "            '<a target=\"_blank\" href=https://colab.research.google.com/notebooks/data_table.ipynb>data table notebook</a>'\n",
              "            + ' to learn more about interactive tables.';\n",
              "          element.innerHTML = '';\n",
              "          dataTable['output_type'] = 'display_data';\n",
              "          await google.colab.output.renderOutput(dataTable, element);\n",
              "          const docLink = document.createElement('div');\n",
              "          docLink.innerHTML = docLinkHtml;\n",
              "          element.appendChild(docLink);\n",
              "        }\n",
              "      </script>\n",
              "    </div>\n",
              "  </div>\n",
              "  "
            ]
          },
          "metadata": {},
          "execution_count": 64
        }
      ],
      "source": [
        "evaluation_df"
      ]
    }
  ],
  "metadata": {
    "accelerator": "GPU",
    "colab": {
      "provenance": []
    },
    "gpuClass": "standard",
    "kernelspec": {
      "display_name": "Python 3",
      "language": "python",
      "name": "python3"
    },
    "language_info": {
      "codemirror_mode": {
        "name": "ipython",
        "version": 3
      },
      "file_extension": ".py",
      "mimetype": "text/x-python",
      "name": "python",
      "nbconvert_exporter": "python",
      "pygments_lexer": "ipython3",
      "version": "3.8.10 (default, Nov 14 2022, 12:59:47) \n[GCC 9.4.0]"
    },
    "vscode": {
      "interpreter": {
        "hash": "916dbcbb3f70747c44a77c7bcd40155683ae19c65e1c03b4aa3499c5328201f1"
      }
    }
  },
  "nbformat": 4,
  "nbformat_minor": 0
}